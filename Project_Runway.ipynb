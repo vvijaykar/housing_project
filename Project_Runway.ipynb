{
  "nbformat": 4,
  "nbformat_minor": 0,
  "metadata": {
    "colab": {
      "name": "Project_Runway",
      "provenance": [],
      "collapsed_sections": [
        "wmUpotuig19k"
      ],
      "include_colab_link": true
    },
    "kernelspec": {
      "name": "python3",
      "display_name": "Python 3"
    }
  },
  "cells": [
    {
      "cell_type": "markdown",
      "metadata": {
        "id": "view-in-github",
        "colab_type": "text"
      },
      "source": [
        "<a href=\"https://colab.research.google.com/github/vvijaykar/housing_project/blob/main/Project_Runway.ipynb\" target=\"_parent\"><img src=\"https://colab.research.google.com/assets/colab-badge.svg\" alt=\"Open In Colab\"/></a>"
      ]
    },
    {
      "cell_type": "markdown",
      "metadata": {
        "id": "OQa3sMOfJehE"
      },
      "source": [
        "#Initial Pip Installs & Dependencies"
      ]
    },
    {
      "cell_type": "code",
      "metadata": {
        "id": "AwTqwCJnGKCz",
        "colab": {
          "base_uri": "https://localhost:8080/",
          "height": 34
        },
        "outputId": "f7d1353a-d29d-4ace-dee7-5e05136bf1ca"
      },
      "source": [
        "# Use seaborn for pairplot\n",
        "!pip install -q seaborn\n",
        "\n",
        "# Use some functions from tensorflow_docs\n",
        "!pip install -q git+https://github.com/tensorflow/docs"
      ],
      "execution_count": null,
      "outputs": [
        {
          "output_type": "stream",
          "text": [
            "  Building wheel for tensorflow-docs (setup.py) ... \u001b[?25l\u001b[?25hdone\n"
          ],
          "name": "stdout"
        }
      ]
    },
    {
      "cell_type": "code",
      "metadata": {
        "id": "cqJExCCuJhJu"
      },
      "source": [
        "from __future__ import absolute_import, division, print_function, unicode_literals\n",
        "\n",
        "import pathlib\n",
        "\n",
        "import matplotlib.pyplot as plt\n",
        "import numpy as np\n",
        "import pandas as pd\n",
        "import seaborn as sns\n",
        "import altair as alt"
      ],
      "execution_count": null,
      "outputs": []
    },
    {
      "cell_type": "markdown",
      "metadata": {
        "id": "lF_zaq_tH532"
      },
      "source": [
        "## Google Drive"
      ]
    },
    {
      "cell_type": "code",
      "metadata": {
        "id": "ADcotylLEKMH"
      },
      "source": [
        "# Will Authorize and Mount your GoogleDrive to access files\n",
        "# from google.colab import drive\n",
        "# drive.mount('/content/drive')"
      ],
      "execution_count": null,
      "outputs": []
    },
    {
      "cell_type": "code",
      "metadata": {
        "id": "0yehwgquInFb"
      },
      "source": [
        "# Access Files using PyDrive\n",
        "# https://pythonhosted.org/PyDrive/\n",
        "\n",
        "def GoogDrive():\n",
        "  !pip install -U -q PyDrive\n",
        "  \n",
        "  from pydrive.auth import GoogleAuth\n",
        "  from pydrive.drive import GoogleDrive\n",
        "  from google.colab import auth\n",
        "  from oauth2client.client import GoogleCredentials\n",
        "  \n",
        "  # Authenticate and create the PyDrive client.\n",
        "  auth.authenticate_user()\n",
        "  gauth = GoogleAuth()\n",
        "  gauth.credentials = GoogleCredentials.get_application_default()\n",
        "  drive = GoogleDrive(gauth)\n",
        "  return drive"
      ],
      "execution_count": null,
      "outputs": []
    },
    {
      "cell_type": "code",
      "metadata": {
        "id": "o0qLhguRIqLN"
      },
      "source": [
        "\n",
        "def driveCSVtoDF(csv_filename,shareable_link):\n",
        "    # Using PyDrive Object, acess files and store in a dataframe.\n",
        "    \n",
        "    # isolate the doc id\n",
        "    fileID = shareable_link.split('=')[1]\n",
        "\n",
        "    # Get the Drive Object\n",
        "    drive = GoogDrive()\n",
        "\n",
        "    #create the file from id and filename\n",
        "    downloaded = drive.CreateFile({'id':fileID}) \n",
        "    downloaded.GetContentFile(csv_filename)\n",
        "\n",
        "    #create a dataframe\n",
        "    df = pd.read_csv(csv_filename)\n",
        "\n",
        "    return drive, df\n",
        "\n",
        "\n"
      ],
      "execution_count": null,
      "outputs": []
    },
    {
      "cell_type": "code",
      "metadata": {
        "id": "98xHNHgWSsnI"
      },
      "source": [
        "# File Info from your Drive:\n",
        "# ** Make sure your file is NOT A GOOGLE DOCUMENT .gsheet or being automatically convertect on upload.  \n",
        "csv_filename = 'train.csv'\n",
        "shareable_link = 'https://drive.google.com/open?id=1-3VY-vFNglOXDV0ur46AuA7hO4rKBiON'\n",
        "\n",
        "drive, df = driveCSVtoDF(csv_filename,shareable_link)\n",
        "all_columns = df.columns\n",
        "df.head()"
      ],
      "execution_count": null,
      "outputs": []
    },
    {
      "cell_type": "markdown",
      "metadata": {
        "id": "xBsIoZLs0bmE"
      },
      "source": [
        "# Initial Look at the Data"
      ]
    },
    {
      "cell_type": "code",
      "metadata": {
        "id": "zXaGjNiJG9fX"
      },
      "source": [
        "# plot the dataset, referencing dataframe column names\n",
        "\n",
        "my_x = 'SalePrice'\n",
        "my_y = 'Neighborhood'\n",
        "\n",
        "alt.Chart(df).mark_bar().encode(\n",
        "  x= my_x,\n",
        "  y=alt.Y(my_y, sort='-x'),\n",
        "  color=my_y,   \n",
        ")"
      ],
      "execution_count": null,
      "outputs": []
    },
    {
      "cell_type": "code",
      "metadata": {
        "id": "WNoAQxPopDYn"
      },
      "source": [
        "# quicklook at how many NA values we have in each column filtering out the zeros\n",
        "df.isna().sum()[df.isna().sum() > 0]"
      ],
      "execution_count": null,
      "outputs": []
    },
    {
      "cell_type": "markdown",
      "metadata": {
        "id": "_68swI-RbCOZ"
      },
      "source": [
        "## Correlation Analysis"
      ]
    },
    {
      "cell_type": "code",
      "metadata": {
        "id": "1AXA0ujaQ2vc"
      },
      "source": [
        "# Some Initial Correlation on the Data to target the Regression\n",
        "target = ['SalePrice']\n",
        "\n",
        "# Get the data in a presentable format\n",
        "corr_data = pd.DataFrame(df.corr(method='pearson',min_periods=1)[target])\\\n",
        ".sort_values(by=target,ascending=False).reset_index()\n",
        "\n",
        "# isolate the Top 10 & Bottm 10 into lists\n",
        "top10_corr = corr_data['index'][0:11].to_list()\n",
        "high_corr = corr_data[corr_data['SalePrice'].abs() > 0.2]['index'].to_list()\n",
        "\n",
        "super_high_corr = corr_data[corr_data['SalePrice'].abs() > 0.7]['index'].to_list()\n",
        "low_corr = corr_data[corr_data['SalePrice'].abs() < 0.2]['index'].to_list()\n",
        "\n",
        "# Display data.  Use .T to save screen space or remove to see the whole set\n",
        "corr_data.head(10).T"
      ],
      "execution_count": null,
      "outputs": []
    },
    {
      "cell_type": "code",
      "metadata": {
        "id": "KeiCFLk4oDcm",
        "colab": {
          "base_uri": "https://localhost:8080/",
          "height": 925
        },
        "outputId": "9534ad3a-79ef-4528-ac9e-2fa6b0558956"
      },
      "source": [
        "# View a pair plot grid of the top 5 most correlated data to see what's going on\n",
        "sns.pairplot(df[top10_corr[:5]], diag_kind=\"kde\")"
      ],
      "execution_count": null,
      "outputs": [
        {
          "output_type": "execute_result",
          "data": {
            "text/plain": [
              "<seaborn.axisgrid.PairGrid at 0x7f8cd87d1b00>"
            ]
          },
          "metadata": {
            "tags": []
          },
          "execution_count": 10
        },
        {
          "output_type": "display_data",
          "data": {
            "image/png": "[encoded data removed]",
            "text/plain": [
              "<Figure size 900x900 with 30 Axes>"
            ]
          },
          "metadata": {
            "tags": []
          }
        }
      ]
    },
    {
      "cell_type": "code",
      "metadata": {
        "id": "-uOCHKhrnqn5",
        "colab": {
          "base_uri": "https://localhost:8080/",
          "height": 884
        },
        "outputId": "831417aa-3646-4539-cbc5-e0560d393cf8"
      },
      "source": [
        "# Since correlation only looks at numerical data, we want to know which fields were excluded\n",
        "# and determine which categories we want to keep\n",
        "\n",
        "# capture all the fields not captured by correlation\n",
        "categorical  = [item for item in df.columns if item not in corr_data['index'].to_list()]\n",
        "\n",
        "# print each category to see their unique values\n",
        "for col in categorical:\n",
        "  print(f'{categorical.index(col)}. {col} >> {df[col].unique()}')\n"
      ],
      "execution_count": null,
      "outputs": [
        {
          "output_type": "stream",
          "text": [
            "0. MSZoning >> ['RL' 'RM' 'C (all)' 'FV' 'RH']\n",
            "1. Street >> ['Pave' 'Grvl']\n",
            "2. Alley >> [nan 'Grvl' 'Pave']\n",
            "3. LotShape >> ['Reg' 'IR1' 'IR2' 'IR3']\n",
            "4. LandContour >> ['Lvl' 'Bnk' 'Low' 'HLS']\n",
            "5. Utilities >> ['AllPub' 'NoSeWa']\n",
            "6. LotConfig >> ['Inside' 'FR2' 'Corner' 'CulDSac' 'FR3']\n",
            "7. LandSlope >> ['Gtl' 'Mod' 'Sev']\n",
            "8. Neighborhood >> ['CollgCr' 'Veenker' 'Crawfor' 'NoRidge' 'Mitchel' 'Somerst' 'NWAmes'\n",
            " 'OldTown' 'BrkSide' 'Sawyer' 'NridgHt' 'NAmes' 'SawyerW' 'IDOTRR'\n",
            " 'MeadowV' 'Edwards' 'Timber' 'Gilbert' 'StoneBr' 'ClearCr' 'NPkVill'\n",
            " 'Blmngtn' 'BrDale' 'SWISU' 'Blueste']\n",
            "9. Condition1 >> ['Norm' 'Feedr' 'PosN' 'Artery' 'RRAe' 'RRNn' 'RRAn' 'PosA' 'RRNe']\n",
            "10. Condition2 >> ['Norm' 'Artery' 'RRNn' 'Feedr' 'PosN' 'PosA' 'RRAn' 'RRAe']\n",
            "11. BldgType >> ['1Fam' '2fmCon' 'Duplex' 'TwnhsE' 'Twnhs']\n",
            "12. HouseStyle >> ['2Story' '1Story' '1.5Fin' '1.5Unf' 'SFoyer' 'SLvl' '2.5Unf' '2.5Fin']\n",
            "13. RoofStyle >> ['Gable' 'Hip' 'Gambrel' 'Mansard' 'Flat' 'Shed']\n",
            "14. RoofMatl >> ['CompShg' 'WdShngl' 'Metal' 'WdShake' 'Membran' 'Tar&Grv' 'Roll'\n",
            " 'ClyTile']\n",
            "15. Exterior1st >> ['VinylSd' 'MetalSd' 'Wd Sdng' 'HdBoard' 'BrkFace' 'WdShing' 'CemntBd'\n",
            " 'Plywood' 'AsbShng' 'Stucco' 'BrkComm' 'AsphShn' 'Stone' 'ImStucc'\n",
            " 'CBlock']\n",
            "16. Exterior2nd >> ['VinylSd' 'MetalSd' 'Wd Shng' 'HdBoard' 'Plywood' 'Wd Sdng' 'CmentBd'\n",
            " 'BrkFace' 'Stucco' 'AsbShng' 'Brk Cmn' 'ImStucc' 'AsphShn' 'Stone'\n",
            " 'Other' 'CBlock']\n",
            "17. MasVnrType >> ['BrkFace' 'None' 'Stone' 'BrkCmn' nan]\n",
            "18. ExterQual >> ['Gd' 'TA' 'Ex' 'Fa']\n",
            "19. ExterCond >> ['TA' 'Gd' 'Fa' 'Po' 'Ex']\n",
            "20. Foundation >> ['PConc' 'CBlock' 'BrkTil' 'Wood' 'Slab' 'Stone']\n",
            "21. BsmtQual >> ['Gd' 'TA' 'Ex' nan 'Fa']\n",
            "22. BsmtCond >> ['TA' 'Gd' nan 'Fa' 'Po']\n",
            "23. BsmtExposure >> ['No' 'Gd' 'Mn' 'Av' nan]\n",
            "24. BsmtFinType1 >> ['GLQ' 'ALQ' 'Unf' 'Rec' 'BLQ' nan 'LwQ']\n",
            "25. BsmtFinType2 >> ['Unf' 'BLQ' nan 'ALQ' 'Rec' 'LwQ' 'GLQ']\n",
            "26. Heating >> ['GasA' 'GasW' 'Grav' 'Wall' 'OthW' 'Floor']\n",
            "27. HeatingQC >> ['Ex' 'Gd' 'TA' 'Fa' 'Po']\n",
            "28. CentralAir >> ['Y' 'N']\n",
            "29. Electrical >> ['SBrkr' 'FuseF' 'FuseA' 'FuseP' 'Mix' nan]\n",
            "30. KitchenQual >> ['Gd' 'TA' 'Ex' 'Fa']\n",
            "31. Functional >> ['Typ' 'Min1' 'Maj1' 'Min2' 'Mod' 'Maj2' 'Sev']\n",
            "32. FireplaceQu >> [nan 'TA' 'Gd' 'Fa' 'Ex' 'Po']\n",
            "33. GarageType >> ['Attchd' 'Detchd' 'BuiltIn' 'CarPort' nan 'Basment' '2Types']\n",
            "34. GarageFinish >> ['RFn' 'Unf' 'Fin' nan]\n",
            "35. GarageQual >> ['TA' 'Fa' 'Gd' nan 'Ex' 'Po']\n",
            "36. GarageCond >> ['TA' 'Fa' nan 'Gd' 'Po' 'Ex']\n",
            "37. PavedDrive >> ['Y' 'N' 'P']\n",
            "38. PoolQC >> [nan 'Ex' 'Fa' 'Gd']\n",
            "39. Fence >> [nan 'MnPrv' 'GdWo' 'GdPrv' 'MnWw']\n",
            "40. MiscFeature >> [nan 'Shed' 'Gar2' 'Othr' 'TenC']\n",
            "41. SaleType >> ['WD' 'New' 'COD' 'ConLD' 'ConLI' 'CWD' 'ConLw' 'Con' 'Oth']\n",
            "42. SaleCondition >> ['Normal' 'Abnorml' 'Partial' 'AdjLand' 'Alloca' 'Family']\n"
          ],
          "name": "stdout"
        }
      ]
    },
    {
      "cell_type": "code",
      "metadata": {
        "id": "Bkwgi8C8JKbA",
        "colab": {
          "base_uri": "https://localhost:8080/",
          "height": 68
        },
        "outputId": "c304fd3b-8325-452e-8c0c-d0091d49e320"
      },
      "source": [
        "# using the output above, we can list the #'s for the corresponding items\n",
        "# we want to capture in a separate list\n",
        "\n",
        "# which categories should we keep?  Toss those in a list for us to use later.\n",
        "keep_5 = [0,8,11,33,42]\n",
        "keep_10 = [0,3,8,11,12,15,28,33,41,42]\n",
        "keep_15 = [0,3,6,8,11,12,13,15,20,26,28,31,33,41,42]\n",
        "\n",
        "# convert the index numbers to categories\n",
        "keepers5 = [cat for cat in categorical if categorical.index(cat) in keep_5]\n",
        "keepers10 = [cat for cat in categorical if categorical.index(cat) in keep_10]\n",
        "keepers15 = [cat for cat in categorical if categorical.index(cat) in keep_15]\n",
        "\n",
        "# Preview Results\n",
        "print(keepers5)\n",
        "print(keepers10)\n",
        "print(keepers15)\n",
        "\n",
        "\n"
      ],
      "execution_count": null,
      "outputs": [
        {
          "output_type": "stream",
          "text": [
            "['MSZoning', 'Neighborhood', 'BldgType', 'GarageType', 'SaleCondition']\n",
            "['MSZoning', 'LotShape', 'Neighborhood', 'BldgType', 'HouseStyle', 'Exterior1st', 'CentralAir', 'GarageType', 'SaleType', 'SaleCondition']\n",
            "['MSZoning', 'LotShape', 'LotConfig', 'Neighborhood', 'BldgType', 'HouseStyle', 'RoofStyle', 'Exterior1st', 'Foundation', 'Heating', 'CentralAir', 'Functional', 'GarageType', 'SaleType', 'SaleCondition']\n"
          ],
          "name": "stdout"
        }
      ]
    },
    {
      "cell_type": "markdown",
      "metadata": {
        "id": "BUNKa9V7QGwX"
      },
      "source": [
        "#Cleaning the Data"
      ]
    },
    {
      "cell_type": "code",
      "metadata": {
        "id": "BiIDCSbtgrNr"
      },
      "source": [
        "# Define a switcher function to tranform ordinal scales to numeric scales\n",
        "\n",
        "def NumScale(descriptive_scale):\n",
        "  switcher = {\n",
        "      # KitchenQual\n",
        "      'Ex':5,\n",
        "      'Gd':4,\n",
        "      'TA':3,\n",
        "      'Fa':2,\n",
        "      'Po':1,\n",
        "      'NA':0,\n",
        "\n",
        "      # BsmtExposure\n",
        "      'Gd':4,\n",
        "      'Av':3,\t\n",
        "      'Mn':2,\n",
        "      'No':1,\n",
        "\n",
        "      # BsmtFinType1\n",
        "      'GLQ':6,\n",
        "      'ALQ':5,\n",
        "      'BLQ':4,\n",
        "      'Rec':3,\n",
        "      'LwQ':2,\n",
        "      'Unf':1,\n",
        "\n",
        "      # LandSlope\n",
        "      'Gtl':3,\n",
        "      'Mod':2,\t\n",
        "      'Sev':1,\n",
        "\n",
        "      # GarageFinish\n",
        "       'Fin':3,\t\n",
        "       'RFn':2,\t\n",
        "       'Unf':1,\n",
        "      \n",
        "      # Just in case we run it again\n",
        "       6:6,\n",
        "       5:5,\n",
        "       4:4,\n",
        "       3:3,\n",
        "       2:2,\n",
        "       1:1,\n",
        "       'nan':0,\n",
        "       \n",
        "  }\n",
        "  return switcher.get(descriptive_scale,0)\n"
      ],
      "execution_count": null,
      "outputs": []
    },
    {
      "cell_type": "code",
      "metadata": {
        "id": "aik-aENAncQJ",
        "colab": {
          "base_uri": "https://localhost:8080/",
          "height": 272
        },
        "outputId": "06f2894b-0bd8-4923-ffb4-3577392fec75"
      },
      "source": [
        "# Which fields need to be transformed from Oridinal data to numerical?\n",
        "# What are their currrent values?\n",
        "Scale_List = ['BsmtCond',\n",
        "'BsmtExposure',\n",
        "'BsmtFinType1',\n",
        "'BsmtFinType2',\n",
        "'BsmtQual',\n",
        "'ExterCond',\n",
        "'ExterQual',\n",
        "'GarageCond',\n",
        "'GarageFinish',\n",
        "'GarageQual',\n",
        "'LandSlope',\n",
        "'PoolQC',\n",
        "'KitchenQual',\n",
        "'FireplaceQu',\n",
        "'HeatingQC',\n",
        "]\n",
        "\n",
        "for col in Scale_List:\n",
        "  print(df[col].unique())"
      ],
      "execution_count": null,
      "outputs": [
        {
          "output_type": "stream",
          "text": [
            "['TA' 'Gd' nan 'Fa' 'Po']\n",
            "['No' 'Gd' 'Mn' 'Av' nan]\n",
            "['GLQ' 'ALQ' 'Unf' 'Rec' 'BLQ' nan 'LwQ']\n",
            "['Unf' 'BLQ' nan 'ALQ' 'Rec' 'LwQ' 'GLQ']\n",
            "['Gd' 'TA' 'Ex' nan 'Fa']\n",
            "['TA' 'Gd' 'Fa' 'Po' 'Ex']\n",
            "['Gd' 'TA' 'Ex' 'Fa']\n",
            "['TA' 'Fa' nan 'Gd' 'Po' 'Ex']\n",
            "['RFn' 'Unf' 'Fin' nan]\n",
            "['TA' 'Fa' 'Gd' nan 'Ex' 'Po']\n",
            "['Gtl' 'Mod' 'Sev']\n",
            "[nan 'Ex' 'Fa' 'Gd']\n",
            "['Gd' 'TA' 'Ex' 'Fa']\n",
            "[nan 'TA' 'Gd' 'Fa' 'Ex' 'Po']\n",
            "['Ex' 'Gd' 'TA' 'Fa' 'Po']\n"
          ],
          "name": "stdout"
        }
      ]
    },
    {
      "cell_type": "markdown",
      "metadata": {
        "id": "GF-HZVBxoa2R"
      },
      "source": [
        "##Begin Transforming Data "
      ]
    },
    {
      "cell_type": "code",
      "metadata": {
        "id": "vpEYmGMo7CB7",
        "colab": {
          "base_uri": "https://localhost:8080/",
          "height": 272
        },
        "outputId": "50c18da7-ac67-4fe3-9f41-44a590052370"
      },
      "source": [
        "# Replace Ordinal with Number Scales\n",
        "housing = df.copy(deep=True)\n",
        "for i, row in housing.iterrows():\n",
        "  for col in Scale_List:\n",
        "    value = row[col]\n",
        "    new_value = NumScale(row[col])\n",
        "    housing.loc[i,col] = new_value\n",
        "\n",
        "# Confirming Ordinal Replacement\n",
        "for col in Scale_List:\n",
        "  print(f'{col} >> {housing[col].unique()}')"
      ],
      "execution_count": null,
      "outputs": [
        {
          "output_type": "stream",
          "text": [
            "BsmtCond >> [3 4 0 2 1]\n",
            "BsmtExposure >> [1 4 2 3 0]\n",
            "BsmtFinType1 >> [6 5 1 3 4 0 2]\n",
            "BsmtFinType2 >> [1 4 0 5 3 2 6]\n",
            "BsmtQual >> [4 3 5 0 2]\n",
            "ExterCond >> [3 4 2 1 5]\n",
            "ExterQual >> [4 3 5 2]\n",
            "GarageCond >> [3 2 0 4 1 5]\n",
            "GarageFinish >> [2 1 3 0]\n",
            "GarageQual >> [3 2 4 0 5 1]\n",
            "LandSlope >> [3 2 1]\n",
            "PoolQC >> [0 5 2 4]\n",
            "KitchenQual >> [4 3 5 2]\n",
            "FireplaceQu >> [0 3 4 2 5 1]\n",
            "HeatingQC >> [5 4 3 2 1]\n"
          ],
          "name": "stdout"
        }
      ]
    },
    {
      "cell_type": "code",
      "metadata": {
        "id": "YR6bno-kqgbp",
        "colab": {
          "base_uri": "https://localhost:8080/",
          "height": 669
        },
        "outputId": "87d4e46f-479c-46ae-8989-d975deb77bb6"
      },
      "source": [
        "# Find correlation of ordinal data\n",
        "corr_data = pd.DataFrame(housing.corr(method='pearson',min_periods=1)[target])\\\n",
        ".sort_values(by=target,ascending=False).reset_index()\n",
        "\n",
        "corr_data.head(20)"
      ],
      "execution_count": null,
      "outputs": [
        {
          "output_type": "execute_result",
          "data": {
            "text/html": [
              "<div>\n",
              "<style scoped>\n",
              "    .dataframe tbody tr th:only-of-type {\n",
              "        vertical-align: middle;\n",
              "    }\n",
              "\n",
              "    .dataframe tbody tr th {\n",
              "        vertical-align: top;\n",
              "    }\n",
              "\n",
              "    .dataframe thead th {\n",
              "        text-align: right;\n",
              "    }\n",
              "</style>\n",
              "<table border=\"1\" class=\"dataframe\">\n",
              "  <thead>\n",
              "    <tr style=\"text-align: right;\">\n",
              "      <th></th>\n",
              "      <th>index</th>\n",
              "      <th>SalePrice</th>\n",
              "    </tr>\n",
              "  </thead>\n",
              "  <tbody>\n",
              "    <tr>\n",
              "      <th>0</th>\n",
              "      <td>SalePrice</td>\n",
              "      <td>1.000000</td>\n",
              "    </tr>\n",
              "    <tr>\n",
              "      <th>1</th>\n",
              "      <td>OverallQual</td>\n",
              "      <td>0.790982</td>\n",
              "    </tr>\n",
              "    <tr>\n",
              "      <th>2</th>\n",
              "      <td>GrLivArea</td>\n",
              "      <td>0.708624</td>\n",
              "    </tr>\n",
              "    <tr>\n",
              "      <th>3</th>\n",
              "      <td>ExterQual</td>\n",
              "      <td>0.682639</td>\n",
              "    </tr>\n",
              "    <tr>\n",
              "      <th>4</th>\n",
              "      <td>KitchenQual</td>\n",
              "      <td>0.659600</td>\n",
              "    </tr>\n",
              "    <tr>\n",
              "      <th>5</th>\n",
              "      <td>GarageCars</td>\n",
              "      <td>0.640409</td>\n",
              "    </tr>\n",
              "    <tr>\n",
              "      <th>6</th>\n",
              "      <td>GarageArea</td>\n",
              "      <td>0.623431</td>\n",
              "    </tr>\n",
              "    <tr>\n",
              "      <th>7</th>\n",
              "      <td>TotalBsmtSF</td>\n",
              "      <td>0.613581</td>\n",
              "    </tr>\n",
              "    <tr>\n",
              "      <th>8</th>\n",
              "      <td>1stFlrSF</td>\n",
              "      <td>0.605852</td>\n",
              "    </tr>\n",
              "    <tr>\n",
              "      <th>9</th>\n",
              "      <td>BsmtQual</td>\n",
              "      <td>0.585207</td>\n",
              "    </tr>\n",
              "    <tr>\n",
              "      <th>10</th>\n",
              "      <td>FullBath</td>\n",
              "      <td>0.560664</td>\n",
              "    </tr>\n",
              "    <tr>\n",
              "      <th>11</th>\n",
              "      <td>GarageFinish</td>\n",
              "      <td>0.549247</td>\n",
              "    </tr>\n",
              "    <tr>\n",
              "      <th>12</th>\n",
              "      <td>TotRmsAbvGrd</td>\n",
              "      <td>0.533723</td>\n",
              "    </tr>\n",
              "    <tr>\n",
              "      <th>13</th>\n",
              "      <td>YearBuilt</td>\n",
              "      <td>0.522897</td>\n",
              "    </tr>\n",
              "    <tr>\n",
              "      <th>14</th>\n",
              "      <td>FireplaceQu</td>\n",
              "      <td>0.520438</td>\n",
              "    </tr>\n",
              "    <tr>\n",
              "      <th>15</th>\n",
              "      <td>YearRemodAdd</td>\n",
              "      <td>0.507101</td>\n",
              "    </tr>\n",
              "    <tr>\n",
              "      <th>16</th>\n",
              "      <td>GarageYrBlt</td>\n",
              "      <td>0.486362</td>\n",
              "    </tr>\n",
              "    <tr>\n",
              "      <th>17</th>\n",
              "      <td>MasVnrArea</td>\n",
              "      <td>0.477493</td>\n",
              "    </tr>\n",
              "    <tr>\n",
              "      <th>18</th>\n",
              "      <td>Fireplaces</td>\n",
              "      <td>0.466929</td>\n",
              "    </tr>\n",
              "    <tr>\n",
              "      <th>19</th>\n",
              "      <td>HeatingQC</td>\n",
              "      <td>0.427649</td>\n",
              "    </tr>\n",
              "  </tbody>\n",
              "</table>\n",
              "</div>"
            ],
            "text/plain": [
              "           index  SalePrice\n",
              "0      SalePrice   1.000000\n",
              "1    OverallQual   0.790982\n",
              "2      GrLivArea   0.708624\n",
              "3      ExterQual   0.682639\n",
              "4    KitchenQual   0.659600\n",
              "5     GarageCars   0.640409\n",
              "6     GarageArea   0.623431\n",
              "7    TotalBsmtSF   0.613581\n",
              "8       1stFlrSF   0.605852\n",
              "9       BsmtQual   0.585207\n",
              "10      FullBath   0.560664\n",
              "11  GarageFinish   0.549247\n",
              "12  TotRmsAbvGrd   0.533723\n",
              "13     YearBuilt   0.522897\n",
              "14   FireplaceQu   0.520438\n",
              "15  YearRemodAdd   0.507101\n",
              "16   GarageYrBlt   0.486362\n",
              "17    MasVnrArea   0.477493\n",
              "18    Fireplaces   0.466929\n",
              "19     HeatingQC   0.427649"
            ]
          },
          "metadata": {
            "tags": []
          },
          "execution_count": 16
        }
      ]
    },
    {
      "cell_type": "code",
      "metadata": {
        "id": "3527g4Jjalf4"
      },
      "source": [
        "# Cast some numeric codes to string and other discrete edits\n",
        "# housing1.MSSubClass = housing1.MSSubClass.astype(str)\n",
        "\n",
        "fillzero = ['MasVnrArea', 'GarageYrBlt', 'LotFrontage']\n",
        "housing[fillzero].fillna(0)\n",
        "\n",
        "housing.MSSubClass = housing.MSSubClass.astype(str)\n",
        "\n",
        "\n"
      ],
      "execution_count": null,
      "outputs": []
    },
    {
      "cell_type": "code",
      "metadata": {
        "id": "Fy1O5qmHprQZ",
        "colab": {
          "base_uri": "https://localhost:8080/",
          "height": 54
        },
        "outputId": "7383ad46-600a-4e40-8874-9a8a80d5d445"
      },
      "source": [
        "numeric_cols = high_corr\n",
        "categorical_cols= keepers10\n",
        "ordinal_cols = Scale_List\n",
        "\n",
        "# Assembling the columns to be used to train the model\n",
        "housing_cols = numeric_cols + categorical_cols + ordinal_cols\n",
        "print(housing_cols)\n",
        "exclude_cols = [col for col in all_columns if col not in housing_cols]"
      ],
      "execution_count": null,
      "outputs": [
        {
          "output_type": "stream",
          "text": [
            "['SalePrice', 'OverallQual', 'GrLivArea', 'GarageCars', 'GarageArea', 'TotalBsmtSF', '1stFlrSF', 'FullBath', 'TotRmsAbvGrd', 'YearBuilt', 'YearRemodAdd', 'GarageYrBlt', 'MasVnrArea', 'Fireplaces', 'BsmtFinSF1', 'LotFrontage', 'WoodDeckSF', '2ndFlrSF', 'OpenPorchSF', 'HalfBath', 'LotArea', 'BsmtFullBath', 'BsmtUnfSF', 'MSZoning', 'LotShape', 'Neighborhood', 'BldgType', 'HouseStyle', 'Exterior1st', 'CentralAir', 'GarageType', 'SaleType', 'SaleCondition', 'BsmtCond', 'BsmtExposure', 'BsmtFinType1', 'BsmtFinType2', 'BsmtQual', 'ExterCond', 'ExterQual', 'GarageCond', 'GarageFinish', 'GarageQual', 'LandSlope', 'PoolQC', 'KitchenQual', 'FireplaceQu', 'HeatingQC']\n"
          ],
          "name": "stdout"
        }
      ]
    },
    {
      "cell_type": "code",
      "metadata": {
        "id": "09h3CP8DOwo4",
        "colab": {
          "base_uri": "https://localhost:8080/",
          "height": 34
        },
        "outputId": "3540a920-e6b2-4159-fb12-6e54c603798a"
      },
      "source": [
        "# confirming all columns accounted for\n",
        "\n",
        "ac = len(all_columns)\n",
        "hc = len(housing_cols)\n",
        "ec = len(exclude_cols)\n",
        "print(f'AC = {ac}, HC = {hc}, EC = {ec}: {ac-hc}')"
      ],
      "execution_count": null,
      "outputs": [
        {
          "output_type": "stream",
          "text": [
            "AC = 81, HC = 48, EC = 33: 33\n"
          ],
          "name": "stdout"
        }
      ]
    },
    {
      "cell_type": "code",
      "metadata": {
        "id": "hGs6EzzwVjaJ"
      },
      "source": [
        "# Getting Test Case versions of the clean data\n",
        "\n",
        "# 1) All Original Data (Not Cleaned)\n",
        "data1_raw = df.copy(deep=True)\n",
        "\n",
        "\n",
        "# 2) All Data Cleaned\n",
        "data2_cleaned = housing.copy(deep=True)\n",
        "\n",
        "\n",
        "# ------ The following uses Cleaned Data Only ---------\n",
        "\n",
        "# 3) Data using Top 10 positive correlations only\n",
        "data3_topCorr = housing[top10_corr].copy(deep=True)\n",
        "\n",
        "\n",
        "# 4) Data using all correlations above an absolute value of 0.2\n",
        "data4_highCorr = housing[high_corr].copy(deep=True)\n",
        "\n",
        "\n",
        "# 5) Data using Scaled from High Correlations with 5 selected categorical\n",
        "data5_highkeep5 = housing[high_corr + keepers5].copy(deep=True)\n",
        "\n",
        "\n",
        "# 6) Data using Scaled from High Correlations with 10 selected categorical\n",
        "data6_highkeep10 = housing[high_corr + keepers10].copy(deep=True)\n",
        "\n",
        "\n",
        "# 7) Data using Scaled from High Correlations with 15 selected categorical\n",
        "data7_highkeep15 = housing[high_corr + keepers15].copy(deep=True)\n",
        "\n",
        "\n",
        "# 8) Data using Scaled from High Correlations with 15 selected categorical\n",
        "data8_highkeepscaled = housing[high_corr + keepers10 + Scale_List].copy(deep=True)\n",
        "\n"
      ],
      "execution_count": null,
      "outputs": []
    },
    {
      "cell_type": "code",
      "metadata": {
        "id": "fPK62yB6qWu3"
      },
      "source": [
        ""
      ],
      "execution_count": null,
      "outputs": []
    },
    {
      "cell_type": "markdown",
      "metadata": {
        "id": "ASIlXUlGc4JB"
      },
      "source": [
        "#SciKitLear Regression Model"
      ]
    },
    {
      "cell_type": "code",
      "metadata": {
        "id": "jKPHIO7WVKYK"
      },
      "source": [
        "def skReg(df2,target='SalePrice',title='SK Regression Model'):\n",
        "  \n",
        "  print(f'Orginal Shape of DF = {df2.shape}')\n",
        "\n",
        "  # prepare dataframe with dummy encoded data\n",
        "  df = pd.get_dummies(df2).fillna(0).copy(deep=True)\n",
        "  print(f'New Shape of DF = {df.shape}')\n",
        "  \n",
        "  y = df[target].values.reshape(-1, 1)\n",
        "  X = df.drop(target, axis=1)\n",
        "  print(X.shape, y.shape)\n",
        "\n",
        "  # Split the data into training and testing\n",
        "  from sklearn.model_selection import train_test_split\n",
        "  X_train, X_test, y_train, y_test = train_test_split(X, y, random_state=42)\n",
        "\n",
        "  # Create a StandardScater model and fit it to the training data\n",
        "  from sklearn.preprocessing import StandardScaler\n",
        "  X_scaler = StandardScaler().fit(X_train)\n",
        "  y_scaler = StandardScaler().fit(y_train)\n",
        "\n",
        "  # Transform the training and testing data using the X_scaler and y_scaler models\n",
        "  X_train_scaled = X_scaler.transform(X_train)\n",
        "  X_test_scaled = X_scaler.transform(X_test)\n",
        "  y_train_scaled = y_scaler.transform(y_train)\n",
        "  y_test_scaled = y_scaler.transform(y_test)\n",
        "\n",
        "  # Create a LinearRegression model and fit it to the scaled training data\n",
        "  from sklearn.linear_model import LinearRegression\n",
        "  regression = LinearRegression()\n",
        "  regression.fit(X_train_scaled, y_train_scaled)\n",
        "\n",
        "  # Plot y_test_scaled vs y_test_scaled\n",
        "  # Scatter plot y_test_scaled vs predictions\n",
        "\n",
        "  import matplotlib.pyplot as plt\n",
        "  predictions = regression.predict(X_test_scaled)\n",
        "  regression.fit(X_train_scaled, y_train_scaled)\n",
        "  plt.scatter(regression.predict(X_train_scaled), regression.predict(X_train_scaled) - y_train_scaled, c=\"blue\", label=\"Training Data\")\n",
        "  plt.scatter(regression.predict(X_test_scaled), regression.predict(X_test_scaled) - y_test_scaled, c=\"orange\", label=\"Testing Data\")\n",
        "  plt.legend()\n",
        "  plt.hlines(y=0, xmin=y_test_scaled.min(), xmax=y_test_scaled.max())\n",
        "  plt.title(title)\n",
        "  plt.show()  \n",
        "\n",
        "  from sklearn.metrics import mean_squared_error\n",
        "\n",
        "  MSE = mean_squared_error(y_test_scaled, predictions)\n",
        "  r2 = regression.score(X_test_scaled, y_test_scaled)\n",
        "\n",
        "\n",
        "  return   regression, predictions\n",
        "\n",
        "\n",
        "\n",
        "\n"
      ],
      "execution_count": null,
      "outputs": []
    },
    {
      "cell_type": "code",
      "metadata": {
        "id": "W4taOEHAr5qn"
      },
      "source": [
        "def prepData(df_raw,target):\n",
        "\n",
        "  print(f'''\n",
        "  This function will return 9 objects:\n",
        "    1) dummy encoded df\n",
        "    \n",
        "    Split Data\n",
        "    2) X_train\n",
        "    3) X_test\n",
        "    4) y_train\n",
        "    5) y_test\n",
        "\n",
        "    Split Scaled Data\n",
        "    6) X_train_scaled\n",
        "    7) X_test_scaled\n",
        "    8) y_train_scaled\n",
        "    9) y_test_scaled\n",
        " \n",
        "    ''')\n",
        "  \n",
        "  print(f'Orginal Shape of DF = {df_raw.shape}')\n",
        "\n",
        "  # prepare dataframe with dummy encoded data\n",
        "  df = pd.get_dummies(df_raw).fillna(0).copy(deep=True)\n",
        "  print(f'New Shape of DF = {df.shape}')\n",
        "  \n",
        "  y = df[target].values.reshape(-1, 1)\n",
        "  X = df.drop(target, axis=1)\n",
        "  print(X.shape, y.shape)\n",
        "\n",
        "  # Split the data into training and testing\n",
        "  from sklearn.model_selection import train_test_split\n",
        "  X_train, X_test, y_train, y_test = train_test_split(X, y, random_state=42)\n",
        "\n",
        "  # Create a StandardScater model and fit it to the training data\n",
        "  from sklearn.preprocessing import StandardScaler\n",
        "  X_scaler = StandardScaler().fit(X_train)\n",
        "  y_scaler = StandardScaler().fit(y_train)\n",
        "\n",
        "  # Transform the training and testing data using the X_scaler and y_scaler models\n",
        "  X_train_scaled = X_scaler.transform(X_train)\n",
        "  X_test_scaled = X_scaler.transform(X_test)\n",
        "  y_train_scaled = y_scaler.transform(y_train)\n",
        "  y_test_scaled = y_scaler.transform(y_test)\n",
        "\n",
        "  return df, X_train, X_test, y_train, y_test, X_train_scaled, X_test_scaled, y_train_scaled, y_test_scaled"
      ],
      "execution_count": null,
      "outputs": []
    },
    {
      "cell_type": "markdown",
      "metadata": {
        "id": "wmUpotuig19k"
      },
      "source": [
        "## Run each data set through the model to view scatter plot and score"
      ]
    },
    {
      "cell_type": "code",
      "metadata": {
        "id": "vgNK2r47WnyD",
        "colab": {
          "base_uri": "https://localhost:8080/",
          "height": 1000
        },
        "outputId": "8a4d8ff1-d52d-4114-e0ff-721e5037dca1"
      },
      "source": [
        "# Run each data set through the model to view scatter plot and score\n",
        "data_sets = [data1_raw,data2_cleaned,data3_topCorr,data4_highCorr,data5_highkeep5,data6_highkeep10,data7_highkeep15,data8_highkeepscaled]\n",
        "for set in data_sets:\n",
        "  skReg(set)"
      ],
      "execution_count": null,
      "outputs": [
        {
          "output_type": "stream",
          "text": [
            "Orginal Shape of DF = (1460, 81)\n",
            "New Shape of DF = (1460, 290)\n",
            "(1460, 289) (1460, 1)\n"
          ],
          "name": "stdout"
        },
        {
          "output_type": "display_data",
          "data": {
            "image/png": "[encoded data removed]",
            "text/plain": [
              "<Figure size 432x288 with 1 Axes>"
            ]
          },
          "metadata": {
            "tags": []
          }
        },
        {
          "output_type": "stream",
          "text": [
            "Orginal Shape of DF = (1460, 81)\n",
            "New Shape of DF = (1460, 253)\n",
            "(1460, 252) (1460, 1)\n"
          ],
          "name": "stdout"
        },
        {
          "output_type": "display_data",
          "data": {
            "image/png": "[encoded data removed]",
            "text/plain": [
              "<Figure size 432x288 with 1 Axes>"
            ]
          },
          "metadata": {
            "tags": []
          }
        },
        {
          "output_type": "stream",
          "text": [
            "Orginal Shape of DF = (1460, 11)\n",
            "New Shape of DF = (1460, 11)\n",
            "(1460, 10) (1460, 1)\n"
          ],
          "name": "stdout"
        },
        {
          "output_type": "display_data",
          "data": {
            "image/png": "[encoded data removed]",
            "text/plain": [
              "<Figure size 432x288 with 1 Axes>"
            ]
          },
          "metadata": {
            "tags": []
          }
        },
        {
          "output_type": "stream",
          "text": [
            "Orginal Shape of DF = (1460, 23)\n",
            "New Shape of DF = (1460, 23)\n",
            "(1460, 22) (1460, 1)\n"
          ],
          "name": "stdout"
        },
        {
          "output_type": "display_data",
          "data": {
            "image/png": "[encoded data removed]",
            "text/plain": [
              "<Figure size 432x288 with 1 Axes>"
            ]
          },
          "metadata": {
            "tags": []
          }
        },
        {
          "output_type": "stream",
          "text": [
            "Orginal Shape of DF = (1460, 28)\n",
            "New Shape of DF = (1460, 70)\n",
            "(1460, 69) (1460, 1)\n"
          ],
          "name": "stdout"
        },
        {
          "output_type": "display_data",
          "data": {
            "image/png": "[encoded data removed]",
            "text/plain": [
              "<Figure size 432x288 with 1 Axes>"
            ]
          },
          "metadata": {
            "tags": []
          }
        },
        {
          "output_type": "stream",
          "text": [
            "Orginal Shape of DF = (1460, 33)\n",
            "New Shape of DF = (1460, 108)\n",
            "(1460, 107) (1460, 1)\n"
          ],
          "name": "stdout"
        },
        {
          "output_type": "display_data",
          "data": {
            "image/png": "[encoded data removed]",
            "text/plain": [
              "<Figure size 432x288 with 1 Axes>"
            ]
          },
          "metadata": {
            "tags": []
          }
        },
        {
          "output_type": "stream",
          "text": [
            "Orginal Shape of DF = (1460, 38)\n",
            "New Shape of DF = (1460, 138)\n",
            "(1460, 137) (1460, 1)\n"
          ],
          "name": "stdout"
        },
        {
          "output_type": "display_data",
          "data": {
            "image/png": "[encoded data removed]",
            "text/plain": [
              "<Figure size 432x288 with 1 Axes>"
            ]
          },
          "metadata": {
            "tags": []
          }
        },
        {
          "output_type": "stream",
          "text": [
            "Orginal Shape of DF = (1460, 48)\n",
            "New Shape of DF = (1460, 123)\n",
            "(1460, 122) (1460, 1)\n"
          ],
          "name": "stdout"
        },
        {
          "output_type": "display_data",
          "data": {
            "image/png": "[encoded data removed]",
            "text/plain": [
              "<Figure size 432x288 with 1 Axes>"
            ]
          },
          "metadata": {
            "tags": []
          }
        }
      ]
    },
    {
      "cell_type": "code",
      "metadata": {
        "id": "rN-Ar_sf3LTK",
        "colab": {
          "base_uri": "https://localhost:8080/",
          "height": 332
        },
        "outputId": "d5030db0-495f-429a-8d25-62145bd4d67d"
      },
      "source": [
        "# Capturing both the Regression Model and Predictions into their own variables\n",
        "regression, predictions = skReg(data8_highkeepscaled)"
      ],
      "execution_count": null,
      "outputs": [
        {
          "output_type": "stream",
          "text": [
            "Orginal Shape of DF = (1460, 48)\n",
            "New Shape of DF = (1460, 123)\n",
            "(1460, 122) (1460, 1)\n"
          ],
          "name": "stdout"
        },
        {
          "output_type": "display_data",
          "data": {
            "image/png": "[encoded data removed]",
            "text/plain": [
              "<Figure size 432x288 with 1 Axes>"
            ]
          },
          "metadata": {
            "tags": []
          }
        }
      ]
    },
    {
      "cell_type": "markdown",
      "metadata": {
        "id": "zrMmU3K3rfJ3"
      },
      "source": [
        "# Preparing the Data Set for Tesor Flow"
      ]
    },
    {
      "cell_type": "code",
      "metadata": {
        "id": "wiHLMXNwrj3T",
        "colab": {
          "base_uri": "https://localhost:8080/",
          "height": 34
        },
        "outputId": "a83abba1-b3eb-4564-f37e-3b9f816c4f34"
      },
      "source": [
        "# selecting my official dataset\n",
        "my_data = data8_highkeepscaled.copy(deep=True)\n",
        "\n",
        "# encoding categorical data and filling any stragglers with 0\n",
        "my_data_encoded = pd.get_dummies(my_data).fillna(0)\n",
        "\n",
        "# isolate the target from the data \n",
        "target = 'SalePrice'\n",
        "y = my_data_encoded[target].values.reshape(-1, 1)\n",
        "X = my_data_encoded.drop(target, axis=1)\n",
        "print(X.shape, y.shape)\n",
        "\n",
        "# Splitting data into Train & Test\n",
        "train_dataset = my_data_encoded.sample(frac=0.8,random_state=0)\n",
        "test_dataset = my_data_encoded.drop(train_dataset.index)\n"
      ],
      "execution_count": null,
      "outputs": [
        {
          "output_type": "stream",
          "text": [
            "(1460, 122) (1460, 1)\n"
          ],
          "name": "stdout"
        }
      ]
    },
    {
      "cell_type": "code",
      "metadata": {
        "id": "pJpSZlHlzmBz",
        "colab": {
          "base_uri": "https://localhost:8080/",
          "height": 357
        },
        "outputId": "e46c187a-906b-4297-d611-a61807575bc0"
      },
      "source": [
        "my_data_encoded, X_train, X_test, y_train, y_test, X_train_scaled, X_test_scaled, y_train_scaled, y_test_scaled = prepData(my_data,target='SalePrice')"
      ],
      "execution_count": null,
      "outputs": [
        {
          "output_type": "stream",
          "text": [
            "\n",
            "  This function will return 9 objects:\n",
            "    1) dummy encoded df\n",
            "    \n",
            "    Split Data\n",
            "    2) X_train\n",
            "    3) X_test\n",
            "    4) y_train\n",
            "    5) y_test\n",
            "\n",
            "    Split Scaled Data\n",
            "    6) X_train_scaled\n",
            "    7) X_test_scaled\n",
            "    8) y_train_scaled\n",
            "    9) y_test_scaled\n",
            " \n",
            "    \n",
            "Orginal Shape of DF = (1460, 48)\n",
            "New Shape of DF = (1460, 123)\n",
            "(1460, 122) (1460, 1)\n"
          ],
          "name": "stdout"
        }
      ]
    },
    {
      "cell_type": "code",
      "metadata": {
        "id": "k6VOhARQ23nb",
        "colab": {
          "base_uri": "https://localhost:8080/",
          "height": 34
        },
        "outputId": "aaa18ead-6969-4a8b-80e7-93e000e2d9cc"
      },
      "source": [
        "### BEGIN SOLUTION\n",
        "from sklearn.metrics import mean_squared_error\n",
        "\n",
        "MSE = mean_squared_error(y_test_scaled, predictions)\n",
        "r2 = regression.score(X_test_scaled, y_test_scaled)\n",
        "### END SOLUTION\n",
        "\n",
        "print(f\"MSE: {MSE}, R2: {r2}\")"
      ],
      "execution_count": null,
      "outputs": [
        {
          "output_type": "stream",
          "text": [
            "MSE: 0.1540742492020195, R2: 0.8664650848255326\n"
          ],
          "name": "stdout"
        }
      ]
    },
    {
      "cell_type": "code",
      "metadata": {
        "id": "eCJlLZc11jG_",
        "colab": {
          "base_uri": "https://localhost:8080/",
          "height": 34
        },
        "outputId": "f9817c3a-7b65-42a1-e810-858f1237d55f"
      },
      "source": [
        "# Ridge model\n",
        "# Note: Use an alpha of .01 when creating the model for this activity\n",
        "from sklearn.linear_model import Ridge\n",
        "\n",
        "### BEGIN SOLUTION\n",
        "ridge = Ridge(alpha=.01).fit(X_train_scaled, y_train_scaled)\n",
        "\n",
        "predictions = ridge.predict(X_test_scaled)\n",
        "\n",
        "MSE = mean_squared_error(y_test_scaled, predictions)\n",
        "r2 = ridge.score(X_test_scaled, y_test_scaled)\n",
        "### END SOLUTION\n",
        "\n",
        "print(f\"MSE: {MSE}, R2: {r2}\")"
      ],
      "execution_count": null,
      "outputs": [
        {
          "output_type": "stream",
          "text": [
            "MSE: 0.15413380277209562, R2: 0.8664134702243281\n"
          ],
          "name": "stdout"
        }
      ]
    },
    {
      "cell_type": "code",
      "metadata": {
        "id": "Yab0Dexf1gPY",
        "colab": {
          "base_uri": "https://localhost:8080/",
          "height": 34
        },
        "outputId": "7552a711-caec-40c9-8fb6-f06030b47cc8"
      },
      "source": [
        "# LASSO model\n",
        "# Note: Use an alpha of .01 when creating the model for this activity\n",
        "from sklearn.linear_model import Lasso\n",
        "\n",
        "### BEGIN SOLUTION\n",
        "lasso = Lasso(alpha=.01).fit(X_train_scaled, y_train_scaled)\n",
        "\n",
        "predictions = lasso.predict(X_test_scaled)\n",
        "\n",
        "MSE = mean_squared_error(y_test_scaled, predictions)\n",
        "r2 = lasso.score(X_test_scaled, y_test_scaled)\n",
        "### END SOLUTION\n",
        "\n",
        "print(f\"MSE: {MSE}, R2: {r2}\")"
      ],
      "execution_count": null,
      "outputs": [
        {
          "output_type": "stream",
          "text": [
            "MSE: 0.15305693475387475, R2: 0.8673467830927145\n"
          ],
          "name": "stdout"
        }
      ]
    },
    {
      "cell_type": "code",
      "metadata": {
        "id": "cqyvbG-O1lrR",
        "colab": {
          "base_uri": "https://localhost:8080/",
          "height": 34
        },
        "outputId": "a63f9ef6-3b71-44a6-96cf-4c0322b47a35"
      },
      "source": [
        "# ElasticNet model\n",
        "# Note: Use an alpha of .01 when creating the model for this activity\n",
        "from sklearn.linear_model import ElasticNet\n",
        "\n",
        "### BEGIN SOLUTION\n",
        "elasticnet = ElasticNet(alpha=.01).fit(X_train_scaled, y_train_scaled)\n",
        "\n",
        "predictions = elasticnet.predict(X_test_scaled)\n",
        "\n",
        "MSE = mean_squared_error(y_test_scaled, predictions)\n",
        "r2 = elasticnet.score(X_test_scaled, y_test_scaled)\n",
        "### END SOLUTION\n",
        "\n",
        "print(f\"MSE: {MSE}, R2: {r2}\")"
      ],
      "execution_count": null,
      "outputs": [
        {
          "output_type": "stream",
          "text": [
            "MSE: 0.15265710227903004, R2: 0.8676933146895837\n"
          ],
          "name": "stdout"
        }
      ]
    },
    {
      "cell_type": "code",
      "metadata": {
        "id": "depUcW3Qx5nf",
        "colab": {
          "base_uri": "https://localhost:8080/",
          "height": 419
        },
        "outputId": "786cfb23-8c31-4aa6-a176-7aef4a4d9d8d"
      },
      "source": [
        "# target = 'SalePrice'\n",
        "train_stats = X_train.describe()\n",
        "# train_stats.pop(target)\n",
        "train_stats = train_stats.transpose()\n",
        "train_stats"
      ],
      "execution_count": null,
      "outputs": [
        {
          "output_type": "execute_result",
          "data": {
            "text/html": [
              "<div>\n",
              "<style scoped>\n",
              "    .dataframe tbody tr th:only-of-type {\n",
              "        vertical-align: middle;\n",
              "    }\n",
              "\n",
              "    .dataframe tbody tr th {\n",
              "        vertical-align: top;\n",
              "    }\n",
              "\n",
              "    .dataframe thead th {\n",
              "        text-align: right;\n",
              "    }\n",
              "</style>\n",
              "<table border=\"1\" class=\"dataframe\">\n",
              "  <thead>\n",
              "    <tr style=\"text-align: right;\">\n",
              "      <th></th>\n",
              "      <th>count</th>\n",
              "      <th>mean</th>\n",
              "      <th>std</th>\n",
              "      <th>min</th>\n",
              "      <th>25%</th>\n",
              "      <th>50%</th>\n",
              "      <th>75%</th>\n",
              "      <th>max</th>\n",
              "    </tr>\n",
              "  </thead>\n",
              "  <tbody>\n",
              "    <tr>\n",
              "      <th>OverallQual</th>\n",
              "      <td>1095.0</td>\n",
              "      <td>6.129680</td>\n",
              "      <td>1.366746</td>\n",
              "      <td>1.0</td>\n",
              "      <td>5.0</td>\n",
              "      <td>6.0</td>\n",
              "      <td>7.0</td>\n",
              "      <td>10.0</td>\n",
              "    </tr>\n",
              "    <tr>\n",
              "      <th>GrLivArea</th>\n",
              "      <td>1095.0</td>\n",
              "      <td>1531.213699</td>\n",
              "      <td>527.197908</td>\n",
              "      <td>334.0</td>\n",
              "      <td>1148.0</td>\n",
              "      <td>1478.0</td>\n",
              "      <td>1795.0</td>\n",
              "      <td>5642.0</td>\n",
              "    </tr>\n",
              "    <tr>\n",
              "      <th>GarageCars</th>\n",
              "      <td>1095.0</td>\n",
              "      <td>1.784475</td>\n",
              "      <td>0.733836</td>\n",
              "      <td>0.0</td>\n",
              "      <td>1.0</td>\n",
              "      <td>2.0</td>\n",
              "      <td>2.0</td>\n",
              "      <td>4.0</td>\n",
              "    </tr>\n",
              "    <tr>\n",
              "      <th>GarageArea</th>\n",
              "      <td>1095.0</td>\n",
              "      <td>477.539726</td>\n",
              "      <td>210.563755</td>\n",
              "      <td>0.0</td>\n",
              "      <td>349.5</td>\n",
              "      <td>484.0</td>\n",
              "      <td>576.0</td>\n",
              "      <td>1418.0</td>\n",
              "    </tr>\n",
              "    <tr>\n",
              "      <th>TotalBsmtSF</th>\n",
              "      <td>1095.0</td>\n",
              "      <td>1060.763470</td>\n",
              "      <td>443.879480</td>\n",
              "      <td>0.0</td>\n",
              "      <td>795.5</td>\n",
              "      <td>996.0</td>\n",
              "      <td>1299.5</td>\n",
              "      <td>6110.0</td>\n",
              "    </tr>\n",
              "    <tr>\n",
              "      <th>...</th>\n",
              "      <td>...</td>\n",
              "      <td>...</td>\n",
              "      <td>...</td>\n",
              "      <td>...</td>\n",
              "      <td>...</td>\n",
              "      <td>...</td>\n",
              "      <td>...</td>\n",
              "      <td>...</td>\n",
              "    </tr>\n",
              "    <tr>\n",
              "      <th>SaleCondition_AdjLand</th>\n",
              "      <td>1095.0</td>\n",
              "      <td>0.003653</td>\n",
              "      <td>0.060357</td>\n",
              "      <td>0.0</td>\n",
              "      <td>0.0</td>\n",
              "      <td>0.0</td>\n",
              "      <td>0.0</td>\n",
              "      <td>1.0</td>\n",
              "    </tr>\n",
              "    <tr>\n",
              "      <th>SaleCondition_Alloca</th>\n",
              "      <td>1095.0</td>\n",
              "      <td>0.004566</td>\n",
              "      <td>0.067450</td>\n",
              "      <td>0.0</td>\n",
              "      <td>0.0</td>\n",
              "      <td>0.0</td>\n",
              "      <td>0.0</td>\n",
              "      <td>1.0</td>\n",
              "    </tr>\n",
              "    <tr>\n",
              "      <th>SaleCondition_Family</th>\n",
              "      <td>1095.0</td>\n",
              "      <td>0.015525</td>\n",
              "      <td>0.123685</td>\n",
              "      <td>0.0</td>\n",
              "      <td>0.0</td>\n",
              "      <td>0.0</td>\n",
              "      <td>0.0</td>\n",
              "      <td>1.0</td>\n",
              "    </tr>\n",
              "    <tr>\n",
              "      <th>SaleCondition_Normal</th>\n",
              "      <td>1095.0</td>\n",
              "      <td>0.829224</td>\n",
              "      <td>0.376485</td>\n",
              "      <td>0.0</td>\n",
              "      <td>1.0</td>\n",
              "      <td>1.0</td>\n",
              "      <td>1.0</td>\n",
              "      <td>1.0</td>\n",
              "    </tr>\n",
              "    <tr>\n",
              "      <th>SaleCondition_Partial</th>\n",
              "      <td>1095.0</td>\n",
              "      <td>0.082192</td>\n",
              "      <td>0.274782</td>\n",
              "      <td>0.0</td>\n",
              "      <td>0.0</td>\n",
              "      <td>0.0</td>\n",
              "      <td>0.0</td>\n",
              "      <td>1.0</td>\n",
              "    </tr>\n",
              "  </tbody>\n",
              "</table>\n",
              "<p>122 rows × 8 columns</p>\n",
              "</div>"
            ],
            "text/plain": [
              "                        count         mean         std  ...     50%     75%     max\n",
              "OverallQual            1095.0     6.129680    1.366746  ...     6.0     7.0    10.0\n",
              "GrLivArea              1095.0  1531.213699  527.197908  ...  1478.0  1795.0  5642.0\n",
              "GarageCars             1095.0     1.784475    0.733836  ...     2.0     2.0     4.0\n",
              "GarageArea             1095.0   477.539726  210.563755  ...   484.0   576.0  1418.0\n",
              "TotalBsmtSF            1095.0  1060.763470  443.879480  ...   996.0  1299.5  6110.0\n",
              "...                       ...          ...         ...  ...     ...     ...     ...\n",
              "SaleCondition_AdjLand  1095.0     0.003653    0.060357  ...     0.0     0.0     1.0\n",
              "SaleCondition_Alloca   1095.0     0.004566    0.067450  ...     0.0     0.0     1.0\n",
              "SaleCondition_Family   1095.0     0.015525    0.123685  ...     0.0     0.0     1.0\n",
              "SaleCondition_Normal   1095.0     0.829224    0.376485  ...     1.0     1.0     1.0\n",
              "SaleCondition_Partial  1095.0     0.082192    0.274782  ...     0.0     0.0     1.0\n",
              "\n",
              "[122 rows x 8 columns]"
            ]
          },
          "metadata": {
            "tags": []
          },
          "execution_count": 31
        }
      ]
    },
    {
      "cell_type": "code",
      "metadata": {
        "id": "_tlDiFPIyHsD"
      },
      "source": [
        "train_labels = train_dataset.pop(target)\n",
        "test_labels = test_dataset.pop(target)"
      ],
      "execution_count": null,
      "outputs": []
    },
    {
      "cell_type": "code",
      "metadata": {
        "id": "rwmjVmp_yLzT"
      },
      "source": [
        "def norm(x):\n",
        "  return (x - train_stats['mean']) / train_stats['std']\n",
        "\n",
        "\n",
        "normed_train_data = norm(X_train)\n",
        "normed_test_data = norm(X_test)"
      ],
      "execution_count": null,
      "outputs": []
    },
    {
      "cell_type": "code",
      "metadata": {
        "id": "R3lsciPsyi6D",
        "colab": {
          "base_uri": "https://localhost:8080/",
          "height": 456
        },
        "outputId": "70f51db5-1fbe-4908-8e9b-a91cf91d8a8e"
      },
      "source": [
        "normed_train_data"
      ],
      "execution_count": null,
      "outputs": [
        {
          "output_type": "execute_result",
          "data": {
            "text/html": [
              "<div>\n",
              "<style scoped>\n",
              "    .dataframe tbody tr th:only-of-type {\n",
              "        vertical-align: middle;\n",
              "    }\n",
              "\n",
              "    .dataframe tbody tr th {\n",
              "        vertical-align: top;\n",
              "    }\n",
              "\n",
              "    .dataframe thead th {\n",
              "        text-align: right;\n",
              "    }\n",
              "</style>\n",
              "<table border=\"1\" class=\"dataframe\">\n",
              "  <thead>\n",
              "    <tr style=\"text-align: right;\">\n",
              "      <th></th>\n",
              "      <th>OverallQual</th>\n",
              "      <th>GrLivArea</th>\n",
              "      <th>GarageCars</th>\n",
              "      <th>GarageArea</th>\n",
              "      <th>TotalBsmtSF</th>\n",
              "      <th>1stFlrSF</th>\n",
              "      <th>FullBath</th>\n",
              "      <th>TotRmsAbvGrd</th>\n",
              "      <th>YearBuilt</th>\n",
              "      <th>YearRemodAdd</th>\n",
              "      <th>GarageYrBlt</th>\n",
              "      <th>MasVnrArea</th>\n",
              "      <th>Fireplaces</th>\n",
              "      <th>BsmtFinSF1</th>\n",
              "      <th>LotFrontage</th>\n",
              "      <th>WoodDeckSF</th>\n",
              "      <th>2ndFlrSF</th>\n",
              "      <th>OpenPorchSF</th>\n",
              "      <th>HalfBath</th>\n",
              "      <th>LotArea</th>\n",
              "      <th>BsmtFullBath</th>\n",
              "      <th>BsmtUnfSF</th>\n",
              "      <th>BsmtCond</th>\n",
              "      <th>BsmtExposure</th>\n",
              "      <th>BsmtFinType1</th>\n",
              "      <th>BsmtFinType2</th>\n",
              "      <th>BsmtQual</th>\n",
              "      <th>ExterCond</th>\n",
              "      <th>ExterQual</th>\n",
              "      <th>GarageCond</th>\n",
              "      <th>GarageFinish</th>\n",
              "      <th>GarageQual</th>\n",
              "      <th>LandSlope</th>\n",
              "      <th>PoolQC</th>\n",
              "      <th>KitchenQual</th>\n",
              "      <th>FireplaceQu</th>\n",
              "      <th>HeatingQC</th>\n",
              "      <th>MSZoning_C (all)</th>\n",
              "      <th>MSZoning_FV</th>\n",
              "      <th>MSZoning_RH</th>\n",
              "      <th>...</th>\n",
              "      <th>HouseStyle_SFoyer</th>\n",
              "      <th>HouseStyle_SLvl</th>\n",
              "      <th>Exterior1st_AsbShng</th>\n",
              "      <th>Exterior1st_AsphShn</th>\n",
              "      <th>Exterior1st_BrkComm</th>\n",
              "      <th>Exterior1st_BrkFace</th>\n",
              "      <th>Exterior1st_CBlock</th>\n",
              "      <th>Exterior1st_CemntBd</th>\n",
              "      <th>Exterior1st_HdBoard</th>\n",
              "      <th>Exterior1st_ImStucc</th>\n",
              "      <th>Exterior1st_MetalSd</th>\n",
              "      <th>Exterior1st_Plywood</th>\n",
              "      <th>Exterior1st_Stone</th>\n",
              "      <th>Exterior1st_Stucco</th>\n",
              "      <th>Exterior1st_VinylSd</th>\n",
              "      <th>Exterior1st_Wd Sdng</th>\n",
              "      <th>Exterior1st_WdShing</th>\n",
              "      <th>CentralAir_N</th>\n",
              "      <th>CentralAir_Y</th>\n",
              "      <th>GarageType_2Types</th>\n",
              "      <th>GarageType_Attchd</th>\n",
              "      <th>GarageType_Basment</th>\n",
              "      <th>GarageType_BuiltIn</th>\n",
              "      <th>GarageType_CarPort</th>\n",
              "      <th>GarageType_Detchd</th>\n",
              "      <th>SaleType_COD</th>\n",
              "      <th>SaleType_CWD</th>\n",
              "      <th>SaleType_Con</th>\n",
              "      <th>SaleType_ConLD</th>\n",
              "      <th>SaleType_ConLI</th>\n",
              "      <th>SaleType_ConLw</th>\n",
              "      <th>SaleType_New</th>\n",
              "      <th>SaleType_Oth</th>\n",
              "      <th>SaleType_WD</th>\n",
              "      <th>SaleCondition_Abnorml</th>\n",
              "      <th>SaleCondition_AdjLand</th>\n",
              "      <th>SaleCondition_Alloca</th>\n",
              "      <th>SaleCondition_Family</th>\n",
              "      <th>SaleCondition_Normal</th>\n",
              "      <th>SaleCondition_Partial</th>\n",
              "    </tr>\n",
              "  </thead>\n",
              "  <tbody>\n",
              "    <tr>\n",
              "      <th>1023</th>\n",
              "      <td>0.636782</td>\n",
              "      <td>-0.051620</td>\n",
              "      <td>0.293696</td>\n",
              "      <td>-0.192529</td>\n",
              "      <td>0.642599</td>\n",
              "      <td>0.861699</td>\n",
              "      <td>0.772519</td>\n",
              "      <td>0.268055</td>\n",
              "      <td>1.107383</td>\n",
              "      <td>1.019908</td>\n",
              "      <td>0.295282</td>\n",
              "      <td>-0.519066</td>\n",
              "      <td>0.591028</td>\n",
              "      <td>-0.943829</td>\n",
              "      <td>-0.409502</td>\n",
              "      <td>0.458644</td>\n",
              "      <td>-0.804912</td>\n",
              "      <td>-0.428642</td>\n",
              "      <td>-0.766285</td>\n",
              "      <td>-0.683637</td>\n",
              "      <td>-0.813623</td>\n",
              "      <td>1.711091</td>\n",
              "      <td>1.927758</td>\n",
              "      <td>-0.587611</td>\n",
              "      <td>1.158844</td>\n",
              "      <td>-0.275341</td>\n",
              "      <td>0.577842</td>\n",
              "      <td>-0.22174</td>\n",
              "      <td>1.057006</td>\n",
              "      <td>0.253157</td>\n",
              "      <td>1.429095</td>\n",
              "      <td>0.248361</td>\n",
              "      <td>0.227137</td>\n",
              "      <td>-0.070221</td>\n",
              "      <td>0.743017</td>\n",
              "      <td>1.192774</td>\n",
              "      <td>0.890326</td>\n",
              "      <td>-0.060523</td>\n",
              "      <td>-0.211675</td>\n",
              "      <td>-0.11375</td>\n",
              "      <td>...</td>\n",
              "      <td>-0.146409</td>\n",
              "      <td>-0.218639</td>\n",
              "      <td>-0.121717</td>\n",
              "      <td>-0.03022</td>\n",
              "      <td>-0.042757</td>\n",
              "      <td>-0.18952</td>\n",
              "      <td>-0.03022</td>\n",
              "      <td>-0.199624</td>\n",
              "      <td>-0.424020</td>\n",
              "      <td>-0.03022</td>\n",
              "      <td>-0.413481</td>\n",
              "      <td>-0.271039</td>\n",
              "      <td>-0.03022</td>\n",
              "      <td>-0.132823</td>\n",
              "      <td>1.333253</td>\n",
              "      <td>-0.411967</td>\n",
              "      <td>-0.132823</td>\n",
              "      <td>-0.276814</td>\n",
              "      <td>0.276814</td>\n",
              "      <td>-0.074193</td>\n",
              "      <td>0.825472</td>\n",
              "      <td>-0.117797</td>\n",
              "      <td>-0.25921</td>\n",
              "      <td>-0.080174</td>\n",
              "      <td>-0.598526</td>\n",
              "      <td>-0.167760</td>\n",
              "      <td>-0.060523</td>\n",
              "      <td>-0.042757</td>\n",
              "      <td>-0.080174</td>\n",
              "      <td>-0.05239</td>\n",
              "      <td>-0.060523</td>\n",
              "      <td>-0.297302</td>\n",
              "      <td>-0.03022</td>\n",
              "      <td>0.382705</td>\n",
              "      <td>-0.263197</td>\n",
              "      <td>-0.060523</td>\n",
              "      <td>-0.067698</td>\n",
              "      <td>-0.125521</td>\n",
              "      <td>0.453607</td>\n",
              "      <td>-0.299116</td>\n",
              "    </tr>\n",
              "    <tr>\n",
              "      <th>810</th>\n",
              "      <td>-0.094883</td>\n",
              "      <td>-0.421500</td>\n",
              "      <td>0.293696</td>\n",
              "      <td>0.030681</td>\n",
              "      <td>-0.046777</td>\n",
              "      <td>0.357732</td>\n",
              "      <td>-1.062423</td>\n",
              "      <td>-0.962636</td>\n",
              "      <td>0.094500</td>\n",
              "      <td>0.682273</td>\n",
              "      <td>0.225467</td>\n",
              "      <td>-0.023278</td>\n",
              "      <td>0.591028</td>\n",
              "      <td>0.469147</td>\n",
              "      <td>0.576436</td>\n",
              "      <td>1.294557</td>\n",
              "      <td>-0.804912</td>\n",
              "      <td>-0.717934</td>\n",
              "      <td>1.245902</td>\n",
              "      <td>-0.054858</td>\n",
              "      <td>1.118952</td>\n",
              "      <td>-1.278576</td>\n",
              "      <td>0.114274</td>\n",
              "      <td>-0.587611</td>\n",
              "      <td>0.682160</td>\n",
              "      <td>0.849652</td>\n",
              "      <td>-0.562225</td>\n",
              "      <td>-0.22174</td>\n",
              "      <td>-0.683478</td>\n",
              "      <td>0.253157</td>\n",
              "      <td>0.305722</td>\n",
              "      <td>0.248361</td>\n",
              "      <td>0.227137</td>\n",
              "      <td>6.919929</td>\n",
              "      <td>0.743017</td>\n",
              "      <td>0.088260</td>\n",
              "      <td>-2.221080</td>\n",
              "      <td>-0.060523</td>\n",
              "      <td>-0.211675</td>\n",
              "      <td>-0.11375</td>\n",
              "      <td>...</td>\n",
              "      <td>-0.146409</td>\n",
              "      <td>-0.218639</td>\n",
              "      <td>-0.121717</td>\n",
              "      <td>-0.03022</td>\n",
              "      <td>-0.042757</td>\n",
              "      <td>-0.18952</td>\n",
              "      <td>-0.03022</td>\n",
              "      <td>-0.199624</td>\n",
              "      <td>2.356228</td>\n",
              "      <td>-0.03022</td>\n",
              "      <td>-0.413481</td>\n",
              "      <td>-0.271039</td>\n",
              "      <td>-0.03022</td>\n",
              "      <td>-0.132823</td>\n",
              "      <td>-0.749360</td>\n",
              "      <td>-0.411967</td>\n",
              "      <td>-0.132823</td>\n",
              "      <td>-0.276814</td>\n",
              "      <td>0.276814</td>\n",
              "      <td>-0.074193</td>\n",
              "      <td>0.825472</td>\n",
              "      <td>-0.117797</td>\n",
              "      <td>-0.25921</td>\n",
              "      <td>-0.080174</td>\n",
              "      <td>-0.598526</td>\n",
              "      <td>-0.167760</td>\n",
              "      <td>-0.060523</td>\n",
              "      <td>-0.042757</td>\n",
              "      <td>-0.080174</td>\n",
              "      <td>-0.05239</td>\n",
              "      <td>-0.060523</td>\n",
              "      <td>-0.297302</td>\n",
              "      <td>-0.03022</td>\n",
              "      <td>0.382705</td>\n",
              "      <td>-0.263197</td>\n",
              "      <td>-0.060523</td>\n",
              "      <td>-0.067698</td>\n",
              "      <td>-0.125521</td>\n",
              "      <td>0.453607</td>\n",
              "      <td>-0.299116</td>\n",
              "    </tr>\n",
              "    <tr>\n",
              "      <th>1384</th>\n",
              "      <td>-0.094883</td>\n",
              "      <td>-0.518237</td>\n",
              "      <td>-1.069005</td>\n",
              "      <td>-0.938147</td>\n",
              "      <td>-1.128152</td>\n",
              "      <td>-1.221364</td>\n",
              "      <td>-1.062423</td>\n",
              "      <td>-0.347291</td>\n",
              "      <td>-1.049078</td>\n",
              "      <td>-1.681169</td>\n",
              "      <td>0.146643</td>\n",
              "      <td>-0.600725</td>\n",
              "      <td>-0.960953</td>\n",
              "      <td>-0.533258</td>\n",
              "      <td>0.069382</td>\n",
              "      <td>-0.737709</td>\n",
              "      <td>0.465642</td>\n",
              "      <td>-0.717934</td>\n",
              "      <td>-0.766285</td>\n",
              "      <td>-0.152455</td>\n",
              "      <td>-0.813623</td>\n",
              "      <td>-0.478334</td>\n",
              "      <td>0.114274</td>\n",
              "      <td>0.357226</td>\n",
              "      <td>-0.271210</td>\n",
              "      <td>-0.275341</td>\n",
              "      <td>-0.562225</td>\n",
              "      <td>-0.22174</td>\n",
              "      <td>-0.683478</td>\n",
              "      <td>0.253157</td>\n",
              "      <td>-0.817652</td>\n",
              "      <td>0.248361</td>\n",
              "      <td>0.227137</td>\n",
              "      <td>-0.070221</td>\n",
              "      <td>-0.760871</td>\n",
              "      <td>-1.016253</td>\n",
              "      <td>-1.183945</td>\n",
              "      <td>-0.060523</td>\n",
              "      <td>-0.211675</td>\n",
              "      <td>-0.11375</td>\n",
              "      <td>...</td>\n",
              "      <td>-0.146409</td>\n",
              "      <td>-0.218639</td>\n",
              "      <td>-0.121717</td>\n",
              "      <td>-0.03022</td>\n",
              "      <td>-0.042757</td>\n",
              "      <td>-0.18952</td>\n",
              "      <td>-0.03022</td>\n",
              "      <td>-0.199624</td>\n",
              "      <td>-0.424020</td>\n",
              "      <td>-0.03022</td>\n",
              "      <td>-0.413481</td>\n",
              "      <td>-0.271039</td>\n",
              "      <td>-0.03022</td>\n",
              "      <td>-0.132823</td>\n",
              "      <td>-0.749360</td>\n",
              "      <td>-0.411967</td>\n",
              "      <td>7.521959</td>\n",
              "      <td>-0.276814</td>\n",
              "      <td>0.276814</td>\n",
              "      <td>-0.074193</td>\n",
              "      <td>-1.210321</td>\n",
              "      <td>-0.117797</td>\n",
              "      <td>-0.25921</td>\n",
              "      <td>-0.080174</td>\n",
              "      <td>1.669245</td>\n",
              "      <td>-0.167760</td>\n",
              "      <td>-0.060523</td>\n",
              "      <td>-0.042757</td>\n",
              "      <td>-0.080174</td>\n",
              "      <td>-0.05239</td>\n",
              "      <td>-0.060523</td>\n",
              "      <td>-0.297302</td>\n",
              "      <td>-0.03022</td>\n",
              "      <td>0.382705</td>\n",
              "      <td>-0.263197</td>\n",
              "      <td>-0.060523</td>\n",
              "      <td>-0.067698</td>\n",
              "      <td>-0.125521</td>\n",
              "      <td>0.453607</td>\n",
              "      <td>-0.299116</td>\n",
              "    </tr>\n",
              "    <tr>\n",
              "      <th>626</th>\n",
              "      <td>-0.826548</td>\n",
              "      <td>-0.207159</td>\n",
              "      <td>-1.069005</td>\n",
              "      <td>-0.909652</td>\n",
              "      <td>-0.186455</td>\n",
              "      <td>0.649774</td>\n",
              "      <td>-1.062423</td>\n",
              "      <td>-0.347291</td>\n",
              "      <td>-0.362931</td>\n",
              "      <td>-0.330631</td>\n",
              "      <td>0.193937</td>\n",
              "      <td>-0.600725</td>\n",
              "      <td>0.591028</td>\n",
              "      <td>-0.978772</td>\n",
              "      <td>-1.620796</td>\n",
              "      <td>-0.737709</td>\n",
              "      <td>-0.804912</td>\n",
              "      <td>-0.717934</td>\n",
              "      <td>-0.766285</td>\n",
              "      <td>0.144133</td>\n",
              "      <td>-0.813623</td>\n",
              "      <td>0.919841</td>\n",
              "      <td>0.114274</td>\n",
              "      <td>-0.587611</td>\n",
              "      <td>-1.224579</td>\n",
              "      <td>-0.275341</td>\n",
              "      <td>-0.562225</td>\n",
              "      <td>-0.22174</td>\n",
              "      <td>-0.683478</td>\n",
              "      <td>0.253157</td>\n",
              "      <td>0.305722</td>\n",
              "      <td>0.248361</td>\n",
              "      <td>0.227137</td>\n",
              "      <td>-0.070221</td>\n",
              "      <td>-0.760871</td>\n",
              "      <td>0.640517</td>\n",
              "      <td>-1.183945</td>\n",
              "      <td>-0.060523</td>\n",
              "      <td>-0.211675</td>\n",
              "      <td>-0.11375</td>\n",
              "      <td>...</td>\n",
              "      <td>-0.146409</td>\n",
              "      <td>-0.218639</td>\n",
              "      <td>-0.121717</td>\n",
              "      <td>-0.03022</td>\n",
              "      <td>-0.042757</td>\n",
              "      <td>-0.18952</td>\n",
              "      <td>-0.03022</td>\n",
              "      <td>-0.199624</td>\n",
              "      <td>-0.424020</td>\n",
              "      <td>-0.03022</td>\n",
              "      <td>-0.413481</td>\n",
              "      <td>-0.271039</td>\n",
              "      <td>-0.03022</td>\n",
              "      <td>-0.132823</td>\n",
              "      <td>-0.749360</td>\n",
              "      <td>2.425163</td>\n",
              "      <td>-0.132823</td>\n",
              "      <td>-0.276814</td>\n",
              "      <td>0.276814</td>\n",
              "      <td>-0.074193</td>\n",
              "      <td>0.825472</td>\n",
              "      <td>-0.117797</td>\n",
              "      <td>-0.25921</td>\n",
              "      <td>-0.080174</td>\n",
              "      <td>-0.598526</td>\n",
              "      <td>-0.167760</td>\n",
              "      <td>-0.060523</td>\n",
              "      <td>-0.042757</td>\n",
              "      <td>-0.080174</td>\n",
              "      <td>-0.05239</td>\n",
              "      <td>-0.060523</td>\n",
              "      <td>-0.297302</td>\n",
              "      <td>-0.03022</td>\n",
              "      <td>0.382705</td>\n",
              "      <td>-0.263197</td>\n",
              "      <td>-0.060523</td>\n",
              "      <td>-0.067698</td>\n",
              "      <td>-0.125521</td>\n",
              "      <td>0.453607</td>\n",
              "      <td>-0.299116</td>\n",
              "    </tr>\n",
              "    <tr>\n",
              "      <th>813</th>\n",
              "      <td>-0.094883</td>\n",
              "      <td>-0.169222</td>\n",
              "      <td>-1.069005</td>\n",
              "      <td>-0.838415</td>\n",
              "      <td>0.858874</td>\n",
              "      <td>0.701463</td>\n",
              "      <td>-1.062423</td>\n",
              "      <td>0.268055</td>\n",
              "      <td>-0.428279</td>\n",
              "      <td>-1.295301</td>\n",
              "      <td>0.189433</td>\n",
              "      <td>0.816646</td>\n",
              "      <td>-0.960953</td>\n",
              "      <td>0.349034</td>\n",
              "      <td>0.491927</td>\n",
              "      <td>-0.737709</td>\n",
              "      <td>-0.804912</td>\n",
              "      <td>-0.717934</td>\n",
              "      <td>1.245902</td>\n",
              "      <td>-0.090101</td>\n",
              "      <td>-0.813623</td>\n",
              "      <td>0.596148</td>\n",
              "      <td>0.114274</td>\n",
              "      <td>-0.587611</td>\n",
              "      <td>-0.271210</td>\n",
              "      <td>-0.275341</td>\n",
              "      <td>-0.562225</td>\n",
              "      <td>-0.22174</td>\n",
              "      <td>-0.683478</td>\n",
              "      <td>0.253157</td>\n",
              "      <td>0.305722</td>\n",
              "      <td>0.248361</td>\n",
              "      <td>0.227137</td>\n",
              "      <td>-0.070221</td>\n",
              "      <td>-0.760871</td>\n",
              "      <td>-1.016253</td>\n",
              "      <td>-0.146809</td>\n",
              "      <td>-0.060523</td>\n",
              "      <td>-0.211675</td>\n",
              "      <td>-0.11375</td>\n",
              "      <td>...</td>\n",
              "      <td>-0.146409</td>\n",
              "      <td>-0.218639</td>\n",
              "      <td>-0.121717</td>\n",
              "      <td>-0.03022</td>\n",
              "      <td>-0.042757</td>\n",
              "      <td>-0.18952</td>\n",
              "      <td>-0.03022</td>\n",
              "      <td>-0.199624</td>\n",
              "      <td>-0.424020</td>\n",
              "      <td>-0.03022</td>\n",
              "      <td>2.416281</td>\n",
              "      <td>-0.271039</td>\n",
              "      <td>-0.03022</td>\n",
              "      <td>-0.132823</td>\n",
              "      <td>-0.749360</td>\n",
              "      <td>-0.411967</td>\n",
              "      <td>-0.132823</td>\n",
              "      <td>-0.276814</td>\n",
              "      <td>0.276814</td>\n",
              "      <td>-0.074193</td>\n",
              "      <td>0.825472</td>\n",
              "      <td>-0.117797</td>\n",
              "      <td>-0.25921</td>\n",
              "      <td>-0.080174</td>\n",
              "      <td>-0.598526</td>\n",
              "      <td>5.955466</td>\n",
              "      <td>-0.060523</td>\n",
              "      <td>-0.042757</td>\n",
              "      <td>-0.080174</td>\n",
              "      <td>-0.05239</td>\n",
              "      <td>-0.060523</td>\n",
              "      <td>-0.297302</td>\n",
              "      <td>-0.03022</td>\n",
              "      <td>-2.610594</td>\n",
              "      <td>-0.263197</td>\n",
              "      <td>-0.060523</td>\n",
              "      <td>-0.067698</td>\n",
              "      <td>-0.125521</td>\n",
              "      <td>0.453607</td>\n",
              "      <td>-0.299116</td>\n",
              "    </tr>\n",
              "    <tr>\n",
              "      <th>...</th>\n",
              "      <td>...</td>\n",
              "      <td>...</td>\n",
              "      <td>...</td>\n",
              "      <td>...</td>\n",
              "      <td>...</td>\n",
              "      <td>...</td>\n",
              "      <td>...</td>\n",
              "      <td>...</td>\n",
              "      <td>...</td>\n",
              "      <td>...</td>\n",
              "      <td>...</td>\n",
              "      <td>...</td>\n",
              "      <td>...</td>\n",
              "      <td>...</td>\n",
              "      <td>...</td>\n",
              "      <td>...</td>\n",
              "      <td>...</td>\n",
              "      <td>...</td>\n",
              "      <td>...</td>\n",
              "      <td>...</td>\n",
              "      <td>...</td>\n",
              "      <td>...</td>\n",
              "      <td>...</td>\n",
              "      <td>...</td>\n",
              "      <td>...</td>\n",
              "      <td>...</td>\n",
              "      <td>...</td>\n",
              "      <td>...</td>\n",
              "      <td>...</td>\n",
              "      <td>...</td>\n",
              "      <td>...</td>\n",
              "      <td>...</td>\n",
              "      <td>...</td>\n",
              "      <td>...</td>\n",
              "      <td>...</td>\n",
              "      <td>...</td>\n",
              "      <td>...</td>\n",
              "      <td>...</td>\n",
              "      <td>...</td>\n",
              "      <td>...</td>\n",
              "      <td>...</td>\n",
              "      <td>...</td>\n",
              "      <td>...</td>\n",
              "      <td>...</td>\n",
              "      <td>...</td>\n",
              "      <td>...</td>\n",
              "      <td>...</td>\n",
              "      <td>...</td>\n",
              "      <td>...</td>\n",
              "      <td>...</td>\n",
              "      <td>...</td>\n",
              "      <td>...</td>\n",
              "      <td>...</td>\n",
              "      <td>...</td>\n",
              "      <td>...</td>\n",
              "      <td>...</td>\n",
              "      <td>...</td>\n",
              "      <td>...</td>\n",
              "      <td>...</td>\n",
              "      <td>...</td>\n",
              "      <td>...</td>\n",
              "      <td>...</td>\n",
              "      <td>...</td>\n",
              "      <td>...</td>\n",
              "      <td>...</td>\n",
              "      <td>...</td>\n",
              "      <td>...</td>\n",
              "      <td>...</td>\n",
              "      <td>...</td>\n",
              "      <td>...</td>\n",
              "      <td>...</td>\n",
              "      <td>...</td>\n",
              "      <td>...</td>\n",
              "      <td>...</td>\n",
              "      <td>...</td>\n",
              "      <td>...</td>\n",
              "      <td>...</td>\n",
              "      <td>...</td>\n",
              "      <td>...</td>\n",
              "      <td>...</td>\n",
              "      <td>...</td>\n",
              "    </tr>\n",
              "    <tr>\n",
              "      <th>1095</th>\n",
              "      <td>-0.094883</td>\n",
              "      <td>-0.412015</td>\n",
              "      <td>0.293696</td>\n",
              "      <td>-0.178282</td>\n",
              "      <td>0.570507</td>\n",
              "      <td>0.370654</td>\n",
              "      <td>0.772519</td>\n",
              "      <td>-0.347291</td>\n",
              "      <td>1.140057</td>\n",
              "      <td>1.019908</td>\n",
              "      <td>0.297534</td>\n",
              "      <td>-0.600725</td>\n",
              "      <td>0.591028</td>\n",
              "      <td>-0.926358</td>\n",
              "      <td>0.576436</td>\n",
              "      <td>-0.737709</td>\n",
              "      <td>-0.804912</td>\n",
              "      <td>-0.399712</td>\n",
              "      <td>-0.766285</td>\n",
              "      <td>-0.129230</td>\n",
              "      <td>-0.813623</td>\n",
              "      <td>1.621176</td>\n",
              "      <td>0.114274</td>\n",
              "      <td>-0.587611</td>\n",
              "      <td>1.158844</td>\n",
              "      <td>-0.275341</td>\n",
              "      <td>0.577842</td>\n",
              "      <td>-0.22174</td>\n",
              "      <td>1.057006</td>\n",
              "      <td>0.253157</td>\n",
              "      <td>0.305722</td>\n",
              "      <td>0.248361</td>\n",
              "      <td>0.227137</td>\n",
              "      <td>-0.070221</td>\n",
              "      <td>0.743017</td>\n",
              "      <td>1.192774</td>\n",
              "      <td>-0.146809</td>\n",
              "      <td>-0.060523</td>\n",
              "      <td>-0.211675</td>\n",
              "      <td>-0.11375</td>\n",
              "      <td>...</td>\n",
              "      <td>-0.146409</td>\n",
              "      <td>-0.218639</td>\n",
              "      <td>-0.121717</td>\n",
              "      <td>-0.03022</td>\n",
              "      <td>-0.042757</td>\n",
              "      <td>-0.18952</td>\n",
              "      <td>-0.03022</td>\n",
              "      <td>-0.199624</td>\n",
              "      <td>-0.424020</td>\n",
              "      <td>-0.03022</td>\n",
              "      <td>-0.413481</td>\n",
              "      <td>-0.271039</td>\n",
              "      <td>-0.03022</td>\n",
              "      <td>-0.132823</td>\n",
              "      <td>1.333253</td>\n",
              "      <td>-0.411967</td>\n",
              "      <td>-0.132823</td>\n",
              "      <td>-0.276814</td>\n",
              "      <td>0.276814</td>\n",
              "      <td>-0.074193</td>\n",
              "      <td>0.825472</td>\n",
              "      <td>-0.117797</td>\n",
              "      <td>-0.25921</td>\n",
              "      <td>-0.080174</td>\n",
              "      <td>-0.598526</td>\n",
              "      <td>-0.167760</td>\n",
              "      <td>-0.060523</td>\n",
              "      <td>-0.042757</td>\n",
              "      <td>-0.080174</td>\n",
              "      <td>-0.05239</td>\n",
              "      <td>-0.060523</td>\n",
              "      <td>-0.297302</td>\n",
              "      <td>-0.03022</td>\n",
              "      <td>0.382705</td>\n",
              "      <td>-0.263197</td>\n",
              "      <td>-0.060523</td>\n",
              "      <td>-0.067698</td>\n",
              "      <td>-0.125521</td>\n",
              "      <td>0.453607</td>\n",
              "      <td>-0.299116</td>\n",
              "    </tr>\n",
              "    <tr>\n",
              "      <th>1130</th>\n",
              "      <td>-1.558213</td>\n",
              "      <td>0.853164</td>\n",
              "      <td>0.293696</td>\n",
              "      <td>0.467603</td>\n",
              "      <td>0.137958</td>\n",
              "      <td>0.406836</td>\n",
              "      <td>0.772519</td>\n",
              "      <td>0.268055</td>\n",
              "      <td>-1.408488</td>\n",
              "      <td>-1.681169</td>\n",
              "      <td>0.241231</td>\n",
              "      <td>-0.600725</td>\n",
              "      <td>2.143009</td>\n",
              "      <td>0.379608</td>\n",
              "      <td>0.210230</td>\n",
              "      <td>2.567599</td>\n",
              "      <td>0.676644</td>\n",
              "      <td>-0.081491</td>\n",
              "      <td>-0.766285</td>\n",
              "      <td>-0.265957</td>\n",
              "      <td>1.118952</td>\n",
              "      <td>-0.154641</td>\n",
              "      <td>0.114274</td>\n",
              "      <td>-0.587611</td>\n",
              "      <td>0.205475</td>\n",
              "      <td>-0.275341</td>\n",
              "      <td>-0.562225</td>\n",
              "      <td>-0.22174</td>\n",
              "      <td>-0.683478</td>\n",
              "      <td>0.253157</td>\n",
              "      <td>-0.817652</td>\n",
              "      <td>0.248361</td>\n",
              "      <td>0.227137</td>\n",
              "      <td>-0.070221</td>\n",
              "      <td>0.743017</td>\n",
              "      <td>0.640517</td>\n",
              "      <td>-1.183945</td>\n",
              "      <td>-0.060523</td>\n",
              "      <td>-0.211675</td>\n",
              "      <td>-0.11375</td>\n",
              "      <td>...</td>\n",
              "      <td>-0.146409</td>\n",
              "      <td>-0.218639</td>\n",
              "      <td>-0.121717</td>\n",
              "      <td>-0.03022</td>\n",
              "      <td>-0.042757</td>\n",
              "      <td>-0.18952</td>\n",
              "      <td>-0.03022</td>\n",
              "      <td>-0.199624</td>\n",
              "      <td>-0.424020</td>\n",
              "      <td>-0.03022</td>\n",
              "      <td>-0.413481</td>\n",
              "      <td>-0.271039</td>\n",
              "      <td>-0.03022</td>\n",
              "      <td>-0.132823</td>\n",
              "      <td>-0.749360</td>\n",
              "      <td>-0.411967</td>\n",
              "      <td>7.521959</td>\n",
              "      <td>-0.276814</td>\n",
              "      <td>0.276814</td>\n",
              "      <td>-0.074193</td>\n",
              "      <td>-1.210321</td>\n",
              "      <td>-0.117797</td>\n",
              "      <td>-0.25921</td>\n",
              "      <td>-0.080174</td>\n",
              "      <td>1.669245</td>\n",
              "      <td>-0.167760</td>\n",
              "      <td>-0.060523</td>\n",
              "      <td>-0.042757</td>\n",
              "      <td>-0.080174</td>\n",
              "      <td>-0.05239</td>\n",
              "      <td>-0.060523</td>\n",
              "      <td>-0.297302</td>\n",
              "      <td>-0.03022</td>\n",
              "      <td>0.382705</td>\n",
              "      <td>-0.263197</td>\n",
              "      <td>-0.060523</td>\n",
              "      <td>-0.067698</td>\n",
              "      <td>-0.125521</td>\n",
              "      <td>0.453607</td>\n",
              "      <td>-0.299116</td>\n",
              "    </tr>\n",
              "    <tr>\n",
              "      <th>1294</th>\n",
              "      <td>-0.826548</td>\n",
              "      <td>-1.265585</td>\n",
              "      <td>0.293696</td>\n",
              "      <td>0.448607</td>\n",
              "      <td>-0.443281</td>\n",
              "      <td>-0.792346</td>\n",
              "      <td>-1.062423</td>\n",
              "      <td>-0.962636</td>\n",
              "      <td>-0.526299</td>\n",
              "      <td>0.248171</td>\n",
              "      <td>0.187181</td>\n",
              "      <td>-0.600725</td>\n",
              "      <td>-0.960953</td>\n",
              "      <td>-0.614062</td>\n",
              "      <td>0.069382</td>\n",
              "      <td>-0.737709</td>\n",
              "      <td>-0.804912</td>\n",
              "      <td>-0.717934</td>\n",
              "      <td>-0.766285</td>\n",
              "      <td>-0.232702</td>\n",
              "      <td>1.118952</td>\n",
              "      <td>0.288189</td>\n",
              "      <td>0.114274</td>\n",
              "      <td>-0.587611</td>\n",
              "      <td>-0.271210</td>\n",
              "      <td>-0.275341</td>\n",
              "      <td>-0.562225</td>\n",
              "      <td>-0.22174</td>\n",
              "      <td>-0.683478</td>\n",
              "      <td>0.253157</td>\n",
              "      <td>-0.817652</td>\n",
              "      <td>0.248361</td>\n",
              "      <td>0.227137</td>\n",
              "      <td>-0.070221</td>\n",
              "      <td>-0.760871</td>\n",
              "      <td>-1.016253</td>\n",
              "      <td>-1.183945</td>\n",
              "      <td>-0.060523</td>\n",
              "      <td>-0.211675</td>\n",
              "      <td>-0.11375</td>\n",
              "      <td>...</td>\n",
              "      <td>-0.146409</td>\n",
              "      <td>-0.218639</td>\n",
              "      <td>-0.121717</td>\n",
              "      <td>-0.03022</td>\n",
              "      <td>-0.042757</td>\n",
              "      <td>-0.18952</td>\n",
              "      <td>-0.03022</td>\n",
              "      <td>-0.199624</td>\n",
              "      <td>-0.424020</td>\n",
              "      <td>-0.03022</td>\n",
              "      <td>-0.413481</td>\n",
              "      <td>-0.271039</td>\n",
              "      <td>-0.03022</td>\n",
              "      <td>-0.132823</td>\n",
              "      <td>-0.749360</td>\n",
              "      <td>-0.411967</td>\n",
              "      <td>7.521959</td>\n",
              "      <td>-0.276814</td>\n",
              "      <td>0.276814</td>\n",
              "      <td>-0.074193</td>\n",
              "      <td>-1.210321</td>\n",
              "      <td>-0.117797</td>\n",
              "      <td>-0.25921</td>\n",
              "      <td>-0.080174</td>\n",
              "      <td>1.669245</td>\n",
              "      <td>-0.167760</td>\n",
              "      <td>-0.060523</td>\n",
              "      <td>-0.042757</td>\n",
              "      <td>-0.080174</td>\n",
              "      <td>-0.05239</td>\n",
              "      <td>-0.060523</td>\n",
              "      <td>-0.297302</td>\n",
              "      <td>-0.03022</td>\n",
              "      <td>0.382705</td>\n",
              "      <td>-0.263197</td>\n",
              "      <td>-0.060523</td>\n",
              "      <td>-0.067698</td>\n",
              "      <td>-0.125521</td>\n",
              "      <td>0.453607</td>\n",
              "      <td>-0.299116</td>\n",
              "    </tr>\n",
              "    <tr>\n",
              "      <th>860</th>\n",
              "      <td>0.636782</td>\n",
              "      <td>-0.199572</td>\n",
              "      <td>-1.069005</td>\n",
              "      <td>-1.242093</td>\n",
              "      <td>-0.335144</td>\n",
              "      <td>-0.668293</td>\n",
              "      <td>-1.062423</td>\n",
              "      <td>0.268055</td>\n",
              "      <td>-1.735225</td>\n",
              "      <td>0.634039</td>\n",
              "      <td>0.115113</td>\n",
              "      <td>-0.600725</td>\n",
              "      <td>0.591028</td>\n",
              "      <td>-0.978772</td>\n",
              "      <td>-0.071466</td>\n",
              "      <td>-0.737709</td>\n",
              "      <td>0.361275</td>\n",
              "      <td>2.753576</td>\n",
              "      <td>1.245902</td>\n",
              "      <td>-0.280596</td>\n",
              "      <td>-0.813623</td>\n",
              "      <td>0.771481</td>\n",
              "      <td>0.114274</td>\n",
              "      <td>-0.587611</td>\n",
              "      <td>-1.224579</td>\n",
              "      <td>-0.275341</td>\n",
              "      <td>-0.562225</td>\n",
              "      <td>-0.22174</td>\n",
              "      <td>1.057006</td>\n",
              "      <td>0.253157</td>\n",
              "      <td>-0.817652</td>\n",
              "      <td>0.248361</td>\n",
              "      <td>0.227137</td>\n",
              "      <td>-0.070221</td>\n",
              "      <td>0.743017</td>\n",
              "      <td>1.192774</td>\n",
              "      <td>-0.146809</td>\n",
              "      <td>-0.060523</td>\n",
              "      <td>-0.211675</td>\n",
              "      <td>-0.11375</td>\n",
              "      <td>...</td>\n",
              "      <td>-0.146409</td>\n",
              "      <td>-0.218639</td>\n",
              "      <td>-0.121717</td>\n",
              "      <td>-0.03022</td>\n",
              "      <td>-0.042757</td>\n",
              "      <td>-0.18952</td>\n",
              "      <td>-0.03022</td>\n",
              "      <td>-0.199624</td>\n",
              "      <td>-0.424020</td>\n",
              "      <td>-0.03022</td>\n",
              "      <td>-0.413481</td>\n",
              "      <td>-0.271039</td>\n",
              "      <td>-0.03022</td>\n",
              "      <td>-0.132823</td>\n",
              "      <td>-0.749360</td>\n",
              "      <td>2.425163</td>\n",
              "      <td>-0.132823</td>\n",
              "      <td>-0.276814</td>\n",
              "      <td>0.276814</td>\n",
              "      <td>-0.074193</td>\n",
              "      <td>-1.210321</td>\n",
              "      <td>-0.117797</td>\n",
              "      <td>-0.25921</td>\n",
              "      <td>-0.080174</td>\n",
              "      <td>1.669245</td>\n",
              "      <td>-0.167760</td>\n",
              "      <td>-0.060523</td>\n",
              "      <td>-0.042757</td>\n",
              "      <td>-0.080174</td>\n",
              "      <td>-0.05239</td>\n",
              "      <td>-0.060523</td>\n",
              "      <td>-0.297302</td>\n",
              "      <td>-0.03022</td>\n",
              "      <td>0.382705</td>\n",
              "      <td>-0.263197</td>\n",
              "      <td>-0.060523</td>\n",
              "      <td>-0.067698</td>\n",
              "      <td>-0.125521</td>\n",
              "      <td>0.453607</td>\n",
              "      <td>-0.299116</td>\n",
              "    </tr>\n",
              "    <tr>\n",
              "      <th>1126</th>\n",
              "      <td>0.636782</td>\n",
              "      <td>0.045118</td>\n",
              "      <td>1.656398</td>\n",
              "      <td>0.866532</td>\n",
              "      <td>0.703426</td>\n",
              "      <td>0.993505</td>\n",
              "      <td>0.772519</td>\n",
              "      <td>0.268055</td>\n",
              "      <td>1.172731</td>\n",
              "      <td>1.068141</td>\n",
              "      <td>0.299786</td>\n",
              "      <td>0.157539</td>\n",
              "      <td>0.591028</td>\n",
              "      <td>-0.978772</td>\n",
              "      <td>-0.127805</td>\n",
              "      <td>0.358948</td>\n",
              "      <td>-0.804912</td>\n",
              "      <td>-0.428642</td>\n",
              "      <td>-0.766285</td>\n",
              "      <td>-0.638273</td>\n",
              "      <td>-0.813623</td>\n",
              "      <td>1.807750</td>\n",
              "      <td>0.114274</td>\n",
              "      <td>-0.587611</td>\n",
              "      <td>-1.224579</td>\n",
              "      <td>-0.275341</td>\n",
              "      <td>0.577842</td>\n",
              "      <td>-0.22174</td>\n",
              "      <td>1.057006</td>\n",
              "      <td>0.253157</td>\n",
              "      <td>1.429095</td>\n",
              "      <td>0.248361</td>\n",
              "      <td>0.227137</td>\n",
              "      <td>-0.070221</td>\n",
              "      <td>0.743017</td>\n",
              "      <td>0.640517</td>\n",
              "      <td>0.890326</td>\n",
              "      <td>-0.060523</td>\n",
              "      <td>-0.211675</td>\n",
              "      <td>-0.11375</td>\n",
              "      <td>...</td>\n",
              "      <td>-0.146409</td>\n",
              "      <td>-0.218639</td>\n",
              "      <td>-0.121717</td>\n",
              "      <td>-0.03022</td>\n",
              "      <td>-0.042757</td>\n",
              "      <td>-0.18952</td>\n",
              "      <td>-0.03022</td>\n",
              "      <td>-0.199624</td>\n",
              "      <td>-0.424020</td>\n",
              "      <td>-0.03022</td>\n",
              "      <td>-0.413481</td>\n",
              "      <td>-0.271039</td>\n",
              "      <td>-0.03022</td>\n",
              "      <td>-0.132823</td>\n",
              "      <td>1.333253</td>\n",
              "      <td>-0.411967</td>\n",
              "      <td>-0.132823</td>\n",
              "      <td>-0.276814</td>\n",
              "      <td>0.276814</td>\n",
              "      <td>-0.074193</td>\n",
              "      <td>0.825472</td>\n",
              "      <td>-0.117797</td>\n",
              "      <td>-0.25921</td>\n",
              "      <td>-0.080174</td>\n",
              "      <td>-0.598526</td>\n",
              "      <td>-0.167760</td>\n",
              "      <td>-0.060523</td>\n",
              "      <td>-0.042757</td>\n",
              "      <td>-0.080174</td>\n",
              "      <td>-0.05239</td>\n",
              "      <td>-0.060523</td>\n",
              "      <td>-0.297302</td>\n",
              "      <td>-0.03022</td>\n",
              "      <td>0.382705</td>\n",
              "      <td>-0.263197</td>\n",
              "      <td>-0.060523</td>\n",
              "      <td>-0.067698</td>\n",
              "      <td>-0.125521</td>\n",
              "      <td>0.453607</td>\n",
              "      <td>-0.299116</td>\n",
              "    </tr>\n",
              "  </tbody>\n",
              "</table>\n",
              "<p>1095 rows × 122 columns</p>\n",
              "</div>"
            ],
            "text/plain": [
              "      OverallQual  GrLivArea  ...  SaleCondition_Normal  SaleCondition_Partial\n",
              "1023     0.636782  -0.051620  ...              0.453607              -0.299116\n",
              "810     -0.094883  -0.421500  ...              0.453607              -0.299116\n",
              "1384    -0.094883  -0.518237  ...              0.453607              -0.299116\n",
              "626     -0.826548  -0.207159  ...              0.453607              -0.299116\n",
              "813     -0.094883  -0.169222  ...              0.453607              -0.299116\n",
              "...           ...        ...  ...                   ...                    ...\n",
              "1095    -0.094883  -0.412015  ...              0.453607              -0.299116\n",
              "1130    -1.558213   0.853164  ...              0.453607              -0.299116\n",
              "1294    -0.826548  -1.265585  ...              0.453607              -0.299116\n",
              "860      0.636782  -0.199572  ...              0.453607              -0.299116\n",
              "1126     0.636782   0.045118  ...              0.453607              -0.299116\n",
              "\n",
              "[1095 rows x 122 columns]"
            ]
          },
          "metadata": {
            "tags": []
          },
          "execution_count": 34
        }
      ]
    },
    {
      "cell_type": "markdown",
      "metadata": {
        "id": "P_JxTKEcZM74"
      },
      "source": [
        "#Beginning Tensor Flow"
      ]
    },
    {
      "cell_type": "markdown",
      "metadata": {
        "id": "5nj-Eshch0FL"
      },
      "source": [
        "## Getting TF Dependencies"
      ]
    },
    {
      "cell_type": "code",
      "metadata": {
        "id": "voWOuHxaYhQ3",
        "colab": {
          "base_uri": "https://localhost:8080/",
          "height": 80
        },
        "outputId": "ae58db7f-059b-408b-d0c7-b5136c533e65"
      },
      "source": [
        "import tensorflow as tf\n",
        "\n",
        "from tensorflow import keras\n",
        "from tensorflow.keras import layers\n",
        "\n",
        "print(tf.__version__)"
      ],
      "execution_count": null,
      "outputs": [
        {
          "output_type": "display_data",
          "data": {
            "text/html": [
              "<p style=\"color: red;\">\n",
              "The default version of TensorFlow in Colab will soon switch to TensorFlow 2.x.<br>\n",
              "We recommend you <a href=\"https://www.tensorflow.org/guide/migrate\" target=\"_blank\">upgrade</a> now \n",
              "or ensure your notebook will continue to use TensorFlow 1.x via the <code>%tensorflow_version 1.x</code> magic:\n",
              "<a href=\"https://colab.research.google.com/notebooks/tensorflow_version.ipynb\" target=\"_blank\">more info</a>.</p>\n"
            ],
            "text/plain": [
              "<IPython.core.display.HTML object>"
            ]
          },
          "metadata": {
            "tags": []
          }
        },
        {
          "output_type": "stream",
          "text": [
            "1.15.0\n"
          ],
          "name": "stdout"
        }
      ]
    },
    {
      "cell_type": "code",
      "metadata": {
        "id": "5wgUeTZrh5_M"
      },
      "source": [
        "import tensorflow_docs as tfdocs\n",
        "import tensorflow_docs.plots\n",
        "import tensorflow_docs.modeling"
      ],
      "execution_count": null,
      "outputs": []
    },
    {
      "cell_type": "markdown",
      "metadata": {
        "id": "OaeKDgfyh_gR"
      },
      "source": [
        ""
      ]
    },
    {
      "cell_type": "code",
      "metadata": {
        "id": "3zrDpjlMh9cT"
      },
      "source": [
        "def build_model():\n",
        "  model = keras.Sequential([\n",
        "    layers.Dense(64, activation='relu', input_shape=[len(normed_train_data.keys())]),\n",
        "    layers.Dense(64, activation='relu'),\n",
        "    layers.Dense(1)\n",
        "  ])\n",
        "\n",
        "  optimizer = tf.keras.optimizers.RMSprop(0.001)\n",
        "\n",
        "  model.compile(loss='mse',\n",
        "                optimizer=optimizer,\n",
        "                metrics=['mae', 'mse'])\n",
        "  return model"
      ],
      "execution_count": null,
      "outputs": []
    },
    {
      "cell_type": "code",
      "metadata": {
        "id": "9VGCb0HTuL6Q",
        "colab": {
          "base_uri": "https://localhost:8080/",
          "height": 326
        },
        "outputId": "8a0713bd-b6ec-45d1-c950-183389ccca66"
      },
      "source": [
        "model = build_model()\n",
        "model.summary()"
      ],
      "execution_count": null,
      "outputs": [
        {
          "output_type": "stream",
          "text": [
            "WARNING:tensorflow:From /usr/local/lib/python3.6/dist-packages/tensorflow_core/python/ops/resource_variable_ops.py:1630: calling BaseResourceVariable.__init__ (from tensorflow.python.ops.resource_variable_ops) with constraint is deprecated and will be removed in a future version.\n",
            "Instructions for updating:\n",
            "If using Keras pass *_constraint arguments to layers.\n",
            "Model: \"sequential\"\n",
            "_________________________________________________________________\n",
            "Layer (type)                 Output Shape              Param #   \n",
            "=================================================================\n",
            "dense (Dense)                (None, 64)                7872      \n",
            "_________________________________________________________________\n",
            "dense_1 (Dense)              (None, 64)                4160      \n",
            "_________________________________________________________________\n",
            "dense_2 (Dense)              (None, 1)                 65        \n",
            "=================================================================\n",
            "Total params: 12,097\n",
            "Trainable params: 12,097\n",
            "Non-trainable params: 0\n",
            "_________________________________________________________________\n"
          ],
          "name": "stdout"
        }
      ]
    },
    {
      "cell_type": "code",
      "metadata": {
        "id": "RScinkB3uMCa",
        "colab": {
          "base_uri": "https://localhost:8080/",
          "height": 187
        },
        "outputId": "7989fc66-0dba-43de-8bb4-d641dc07e362"
      },
      "source": [
        "example_batch = normed_train_data[:10]\n",
        "example_result = model.predict(example_batch)\n",
        "example_result"
      ],
      "execution_count": null,
      "outputs": [
        {
          "output_type": "execute_result",
          "data": {
            "text/plain": [
              "array([[ 0.7965801 ],\n",
              "       [ 0.03109068],\n",
              "       [-0.2235573 ],\n",
              "       [ 0.7931919 ],\n",
              "       [ 0.98013735],\n",
              "       [ 0.25236034],\n",
              "       [-0.5637282 ],\n",
              "       [ 0.79318076],\n",
              "       [-0.88113075],\n",
              "       [-0.08099233]], dtype=float32)"
            ]
          },
          "metadata": {
            "tags": []
          },
          "execution_count": 39
        }
      ]
    },
    {
      "cell_type": "code",
      "metadata": {
        "id": "b4RyJzitzF4M",
        "colab": {
          "base_uri": "https://localhost:8080/",
          "height": 374
        },
        "outputId": "ef184b19-e569-4182-8fdf-92f4a24eedb2"
      },
      "source": [
        "EPOCHS = 1000\n",
        "\n",
        "history = model.fit(\n",
        "  normed_train_data, y_train,\n",
        "  epochs=EPOCHS, validation_split = 0.2, verbose=0,\n",
        "  callbacks=[tfdocs.modeling.EpochDots()])"
      ],
      "execution_count": null,
      "outputs": [
        {
          "output_type": "stream",
          "text": [
            "\n",
            "Epoch: 0, loss:39327583227.3242,  mean_absolute_error:181727.0156,  mean_squared_error:39327584256.0000,  val_loss:38134234350.4658,  val_mean_absolute_error:181630.4531,  val_mean_squared_error:38134235136.0000,  \n",
            "....................................................................................................\n",
            "Epoch: 100, loss:6291003347.5799,  mean_absolute_error:63120.5391,  mean_squared_error:6291002880.0000,  val_loss:7698516135.1598,  val_mean_absolute_error:70753.9062,  val_mean_squared_error:7698516480.0000,  \n",
            "....................................................................................................\n",
            "Epoch: 200, loss:1631774551.6712,  mean_absolute_error:25184.6172,  mean_squared_error:1631774592.0000,  val_loss:2751042302.8311,  val_mean_absolute_error:30970.8262,  val_mean_squared_error:2751042304.0000,  \n",
            "....................................................................................................\n",
            "Epoch: 300, loss:1245110667.1050,  mean_absolute_error:21368.0391,  mean_squared_error:1245110656.0000,  val_loss:2434634857.4977,  val_mean_absolute_error:28336.6504,  val_mean_squared_error:2434634752.0000,  \n",
            "....................................................................................................\n",
            "Epoch: 400, loss:1038010565.8447,  mean_absolute_error:19245.3867,  mean_squared_error:1038010560.0000,  val_loss:2222006065.9726,  val_mean_absolute_error:26441.3633,  val_mean_squared_error:2222006272.0000,  \n",
            "....................................................................................................\n",
            "Epoch: 500, loss:894953693.0046,  mean_absolute_error:17573.5996,  mean_squared_error:894953600.0000,  val_loss:2058635058.2648,  val_mean_absolute_error:24829.2207,  val_mean_squared_error:2058635136.0000,  \n",
            "....................................................................................................\n",
            "Epoch: 600, loss:792634957.4429,  mean_absolute_error:16316.7178,  mean_squared_error:792634944.0000,  val_loss:1950843973.5525,  val_mean_absolute_error:23924.2148,  val_mean_squared_error:1950843904.0000,  \n",
            "....................................................................................................\n",
            "Epoch: 700, loss:710943804.4932,  mean_absolute_error:15332.5127,  mean_squared_error:710943808.0000,  val_loss:1883422178.4840,  val_mean_absolute_error:23412.3809,  val_mean_squared_error:1883422080.0000,  \n",
            "....................................................................................................\n",
            "Epoch: 800, loss:644977876.8219,  mean_absolute_error:14598.7627,  mean_squared_error:644977920.0000,  val_loss:1842790291.2877,  val_mean_absolute_error:23323.7598,  val_mean_squared_error:1842790272.0000,  \n",
            "....................................................................................................\n",
            "Epoch: 900, loss:592810084.7489,  mean_absolute_error:14083.7363,  mean_squared_error:592810048.0000,  val_loss:1815493409.0228,  val_mean_absolute_error:23122.1230,  val_mean_squared_error:1815493376.0000,  \n",
            "...................................................................................................."
          ],
          "name": "stdout"
        }
      ]
    },
    {
      "cell_type": "code",
      "metadata": {
        "id": "z7hZpy9GzGb8",
        "colab": {
          "base_uri": "https://localhost:8080/",
          "height": 204
        },
        "outputId": "8b88592e-5f76-4c2e-91f5-c8c39c278f13"
      },
      "source": [
        "hist = pd.DataFrame(history.history)\n",
        "hist['epoch'] = history.epoch\n",
        "hist.tail()"
      ],
      "execution_count": null,
      "outputs": [
        {
          "output_type": "execute_result",
          "data": {
            "text/html": [
              "<div>\n",
              "<style scoped>\n",
              "    .dataframe tbody tr th:only-of-type {\n",
              "        vertical-align: middle;\n",
              "    }\n",
              "\n",
              "    .dataframe tbody tr th {\n",
              "        vertical-align: top;\n",
              "    }\n",
              "\n",
              "    .dataframe thead th {\n",
              "        text-align: right;\n",
              "    }\n",
              "</style>\n",
              "<table border=\"1\" class=\"dataframe\">\n",
              "  <thead>\n",
              "    <tr style=\"text-align: right;\">\n",
              "      <th></th>\n",
              "      <th>loss</th>\n",
              "      <th>mean_absolute_error</th>\n",
              "      <th>mean_squared_error</th>\n",
              "      <th>val_loss</th>\n",
              "      <th>val_mean_absolute_error</th>\n",
              "      <th>val_mean_squared_error</th>\n",
              "      <th>epoch</th>\n",
              "    </tr>\n",
              "  </thead>\n",
              "  <tbody>\n",
              "    <tr>\n",
              "      <th>995</th>\n",
              "      <td>5.484255e+08</td>\n",
              "      <td>13601.512695</td>\n",
              "      <td>548425536.0</td>\n",
              "      <td>1.799931e+09</td>\n",
              "      <td>23073.757812</td>\n",
              "      <td>1.799931e+09</td>\n",
              "      <td>995</td>\n",
              "    </tr>\n",
              "    <tr>\n",
              "      <th>996</th>\n",
              "      <td>5.477960e+08</td>\n",
              "      <td>13469.416992</td>\n",
              "      <td>547796096.0</td>\n",
              "      <td>1.799575e+09</td>\n",
              "      <td>23088.703125</td>\n",
              "      <td>1.799575e+09</td>\n",
              "      <td>996</td>\n",
              "    </tr>\n",
              "    <tr>\n",
              "      <th>997</th>\n",
              "      <td>5.480112e+08</td>\n",
              "      <td>13550.189453</td>\n",
              "      <td>548011136.0</td>\n",
              "      <td>1.798639e+09</td>\n",
              "      <td>23076.812500</td>\n",
              "      <td>1.798639e+09</td>\n",
              "      <td>997</td>\n",
              "    </tr>\n",
              "    <tr>\n",
              "      <th>998</th>\n",
              "      <td>5.474755e+08</td>\n",
              "      <td>13512.952148</td>\n",
              "      <td>547475520.0</td>\n",
              "      <td>1.797955e+09</td>\n",
              "      <td>23074.449219</td>\n",
              "      <td>1.797956e+09</td>\n",
              "      <td>998</td>\n",
              "    </tr>\n",
              "    <tr>\n",
              "      <th>999</th>\n",
              "      <td>5.485582e+08</td>\n",
              "      <td>13525.086914</td>\n",
              "      <td>548558144.0</td>\n",
              "      <td>1.797259e+09</td>\n",
              "      <td>23065.451172</td>\n",
              "      <td>1.797259e+09</td>\n",
              "      <td>999</td>\n",
              "    </tr>\n",
              "  </tbody>\n",
              "</table>\n",
              "</div>"
            ],
            "text/plain": [
              "             loss  mean_absolute_error  ...  val_mean_squared_error  epoch\n",
              "995  5.484255e+08         13601.512695  ...            1.799931e+09    995\n",
              "996  5.477960e+08         13469.416992  ...            1.799575e+09    996\n",
              "997  5.480112e+08         13550.189453  ...            1.798639e+09    997\n",
              "998  5.474755e+08         13512.952148  ...            1.797956e+09    998\n",
              "999  5.485582e+08         13525.086914  ...            1.797259e+09    999\n",
              "\n",
              "[5 rows x 7 columns]"
            ]
          },
          "metadata": {
            "tags": []
          },
          "execution_count": 41
        }
      ]
    },
    {
      "cell_type": "code",
      "metadata": {
        "id": "lFPVic2quMEh"
      },
      "source": [
        "plotter = tfdocs.plots.HistoryPlotter(smoothing_std=2)"
      ],
      "execution_count": null,
      "outputs": []
    },
    {
      "cell_type": "code",
      "metadata": {
        "id": "_HqVm-DkuMGZ",
        "colab": {
          "base_uri": "https://localhost:8080/",
          "height": 300
        },
        "outputId": "f4802e92-6cb6-4400-9f1c-7784a5ddca75"
      },
      "source": [
        "plotter.plot({'Basic': history}, metric = 'mean_absolute_error')\n",
        "plt.ylim([0, 100000])\n",
        "plt.ylabel('MAE [SalePrice]')"
      ],
      "execution_count": null,
      "outputs": [
        {
          "output_type": "execute_result",
          "data": {
            "text/plain": [
              "Text(0, 0.5, 'MAE [SalePrice]')"
            ]
          },
          "metadata": {
            "tags": []
          },
          "execution_count": 43
        },
        {
          "output_type": "display_data",
          "data": {
            "image/png": "[encoded data removed]",
            "text/plain": [
              "<Figure size 432x288 with 1 Axes>"
            ]
          },
          "metadata": {
            "tags": []
          }
        }
      ]
    },
    {
      "cell_type": "code",
      "metadata": {
        "id": "p1BAGWTsuMIV",
        "colab": {
          "base_uri": "https://localhost:8080/",
          "height": 306
        },
        "outputId": "99b16dd8-8503-4430-d75c-bcdb26297cf4"
      },
      "source": [
        "model = build_model()\n",
        "\n",
        "# The patience parameter is the amount of epochs to check for improvement\n",
        "early_stop = keras.callbacks.EarlyStopping(monitor='val_loss', patience=10)\n",
        "\n",
        "early_history = model.fit(normed_train_data, y_train, \n",
        "                    epochs=EPOCHS, validation_split = 0.2, verbose=0, \n",
        "                    callbacks=[early_stop, tfdocs.modeling.EpochDots()])"
      ],
      "execution_count": null,
      "outputs": [
        {
          "output_type": "stream",
          "text": [
            "\n",
            "Epoch: 0, loss:39327116975.3425,  mean_absolute_error:181725.7656,  mean_squared_error:39327117312.0000,  val_loss:38133298797.8813,  val_mean_absolute_error:181628.2188,  val_mean_squared_error:38133297152.0000,  \n",
            "....................................................................................................\n",
            "Epoch: 100, loss:3614355404.5662,  mean_absolute_error:43964.6484,  mean_squared_error:3614355200.0000,  val_loss:4778440075.1050,  val_mean_absolute_error:50928.3789,  val_mean_squared_error:4778439680.0000,  \n",
            "....................................................................................................\n",
            "Epoch: 200, loss:1394852095.7808,  mean_absolute_error:23252.2383,  mean_squared_error:1394852224.0000,  val_loss:2540578073.7169,  val_mean_absolute_error:29807.7266,  val_mean_squared_error:2540578048.0000,  \n",
            "....................................................................................................\n",
            "Epoch: 300, loss:1034744512.9498,  mean_absolute_error:19505.2422,  mean_squared_error:1034744384.0000,  val_loss:2159892817.2420,  val_mean_absolute_error:26290.9453,  val_mean_squared_error:2159892736.0000,  \n",
            "....................................................................................................\n",
            "Epoch: 400, loss:862881617.6804,  mean_absolute_error:17307.8633,  mean_squared_error:862881600.0000,  val_loss:1968616059.9087,  val_mean_absolute_error:24494.6523,  val_mean_squared_error:1968616064.0000,  \n",
            "....................................................................................................\n",
            "Epoch: 500, loss:751725613.5890,  mean_absolute_error:15953.4453,  mean_squared_error:751725632.0000,  val_loss:1857891221.6256,  val_mean_absolute_error:23406.0996,  val_mean_squared_error:1857891328.0000,  \n",
            "....................................................................................................\n",
            "Epoch: 600, loss:674692929.8995,  mean_absolute_error:14933.4785,  mean_squared_error:674692992.0000,  val_loss:1793376537.5708,  val_mean_absolute_error:22949.4688,  val_mean_squared_error:1793376512.0000,  \n",
            "....................................................................................................\n",
            "Epoch: 700, loss:610753113.7169,  mean_absolute_error:14226.9268,  mean_squared_error:610753152.0000,  val_loss:1743258081.6073,  val_mean_absolute_error:22671.1602,  val_mean_squared_error:1743258112.0000,  \n",
            "......................................."
          ],
          "name": "stdout"
        }
      ]
    },
    {
      "cell_type": "code",
      "metadata": {
        "id": "rmFzQ4c_uMKD",
        "colab": {
          "base_uri": "https://localhost:8080/",
          "height": 300
        },
        "outputId": "9a93f975-8928-4558-bc78-4a9e154401c1"
      },
      "source": [
        "plotter.plot({'Early Stopping': early_history}, metric = \"mean_absolute_error\")\n",
        "plt.ylim([0, 100000])\n",
        "plt.ylabel('MSE [SalePrice]')"
      ],
      "execution_count": null,
      "outputs": [
        {
          "output_type": "execute_result",
          "data": {
            "text/plain": [
              "Text(0, 0.5, 'MSE [SalePrice]')"
            ]
          },
          "metadata": {
            "tags": []
          },
          "execution_count": 45
        },
        {
          "output_type": "display_data",
          "data": {
            "image/png": "[encoded data removed]",
            "text/plain": [
              "<Figure size 432x288 with 1 Axes>"
            ]
          },
          "metadata": {
            "tags": []
          }
        }
      ]
    },
    {
      "cell_type": "code",
      "metadata": {
        "id": "2lzAbwl-uML1",
        "colab": {
          "base_uri": "https://localhost:8080/",
          "height": 51
        },
        "outputId": "0cf1cf86-1d38-4e1b-bb4a-3b280283fae5"
      },
      "source": [
        "loss, mae, mse = model.evaluate(normed_test_data, y_test, verbose=2)\n",
        "\n",
        "print(\"Testing set Mean Abs Error: {:5.2f} Sale Price\".format(mae))"
      ],
      "execution_count": null,
      "outputs": [
        {
          "output_type": "stream",
          "text": [
            "365/365 - 0s - loss: 1914238803.7260 - mean_absolute_error: 23011.8848 - mean_squared_error: 1914238720.0000\n",
            "Testing set Mean Abs Error: 23011.88 Sale Price\n"
          ],
          "name": "stdout"
        }
      ]
    },
    {
      "cell_type": "code",
      "metadata": {
        "id": "hDEJm2u_MRyT",
        "colab": {
          "base_uri": "https://localhost:8080/",
          "height": 283
        },
        "outputId": "953c6095-4c76-4010-8860-9dbcc4f3159d"
      },
      "source": [
        "test_predictions = model.predict(normed_test_data).flatten()\n",
        "\n",
        "a = plt.axes(aspect='equal')\n",
        "plt.scatter(y_test, test_predictions)\n",
        "plt.xlabel('True Values [SalePrice]')\n",
        "plt.ylabel('Predictions [SalePrice]')\n",
        "lims = [0, 450000]\n",
        "plt.xlim(lims)\n",
        "plt.ylim(lims)\n",
        "_ = plt.plot(lims, lims)"
      ],
      "execution_count": null,
      "outputs": [
        {
          "output_type": "display_data",
          "data": {
            "image/png": "[encoded data removed]",
            "text/plain": [
              "<Figure size 432x288 with 1 Axes>"
            ]
          },
          "metadata": {
            "tags": []
          }
        }
      ]
    },
    {
      "cell_type": "code",
      "metadata": {
        "id": "-2_f9N3RyuJJ",
        "colab": {
          "base_uri": "https://localhost:8080/",
          "height": 204
        },
        "outputId": "410581fc-dce7-411b-876f-bfd397d7a61e"
      },
      "source": [
        "values = pd.DataFrame(test_predictions).sort_values(by=0)\n",
        "values.head()"
      ],
      "execution_count": null,
      "outputs": [
        {
          "output_type": "execute_result",
          "data": {
            "text/html": [
              "<div>\n",
              "<style scoped>\n",
              "    .dataframe tbody tr th:only-of-type {\n",
              "        vertical-align: middle;\n",
              "    }\n",
              "\n",
              "    .dataframe tbody tr th {\n",
              "        vertical-align: top;\n",
              "    }\n",
              "\n",
              "    .dataframe thead th {\n",
              "        text-align: right;\n",
              "    }\n",
              "</style>\n",
              "<table border=\"1\" class=\"dataframe\">\n",
              "  <thead>\n",
              "    <tr style=\"text-align: right;\">\n",
              "      <th></th>\n",
              "      <th>0</th>\n",
              "    </tr>\n",
              "  </thead>\n",
              "  <tbody>\n",
              "    <tr>\n",
              "      <th>53</th>\n",
              "      <td>660.626526</td>\n",
              "    </tr>\n",
              "    <tr>\n",
              "      <th>48</th>\n",
              "      <td>2319.928223</td>\n",
              "    </tr>\n",
              "    <tr>\n",
              "      <th>307</th>\n",
              "      <td>34908.855469</td>\n",
              "    </tr>\n",
              "    <tr>\n",
              "      <th>144</th>\n",
              "      <td>35012.082031</td>\n",
              "    </tr>\n",
              "    <tr>\n",
              "      <th>229</th>\n",
              "      <td>39236.542969</td>\n",
              "    </tr>\n",
              "  </tbody>\n",
              "</table>\n",
              "</div>"
            ],
            "text/plain": [
              "                0\n",
              "53     660.626526\n",
              "48    2319.928223\n",
              "307  34908.855469\n",
              "144  35012.082031\n",
              "229  39236.542969"
            ]
          },
          "metadata": {
            "tags": []
          },
          "execution_count": 48
        }
      ]
    },
    {
      "cell_type": "code",
      "metadata": {
        "id": "-z3NxW1HzTVc",
        "colab": {
          "base_uri": "https://localhost:8080/",
          "height": 221
        },
        "outputId": "6fcef08d-11c2-4809-f769-231ecf075747"
      },
      "source": [
        "X_test.iloc[53]"
      ],
      "execution_count": null,
      "outputs": [
        {
          "output_type": "execute_result",
          "data": {
            "text/plain": [
              "OverallQual                 8.0\n",
              "GrLivArea                2898.0\n",
              "GarageCars                  2.0\n",
              "GarageArea                665.0\n",
              "TotalBsmtSF              1565.0\n",
              "                          ...  \n",
              "SaleCondition_AdjLand       0.0\n",
              "SaleCondition_Alloca        0.0\n",
              "SaleCondition_Family        0.0\n",
              "SaleCondition_Normal        0.0\n",
              "SaleCondition_Partial       0.0\n",
              "Name: 1024, Length: 122, dtype: float64"
            ]
          },
          "metadata": {
            "tags": []
          },
          "execution_count": 49
        }
      ]
    },
    {
      "cell_type": "code",
      "metadata": {
        "id": "scM8d-TsMgsa",
        "colab": {
          "base_uri": "https://localhost:8080/",
          "height": 279
        },
        "outputId": "a2d43db8-87c9-45f6-fc23-34a0cbe69fc6"
      },
      "source": [
        "error = test_predictions - y_test\n",
        "plt.hist(error, bins = 25)\n",
        "plt.xlabel(\"Prediction Error [Sale Price]\")\n",
        "_ = plt.ylabel(\"Count\")"
      ],
      "execution_count": null,
      "outputs": [
        {
          "output_type": "display_data",
          "data": {
            "image/png": "[encoded data removed]",
            "text/plain": [
              "<Figure size 432x288 with 1 Axes>"
            ]
          },
          "metadata": {
            "tags": []
          }
        }
      ]
    },
    {
      "cell_type": "code",
      "metadata": {
        "id": "QtWUiEW9N7Wr"
      },
      "source": [
        ""
      ],
      "execution_count": null,
      "outputs": []
    }
  ]
}